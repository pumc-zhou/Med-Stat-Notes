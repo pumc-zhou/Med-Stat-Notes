{
 "cells": [
  {
   "cell_type": "markdown",
   "id": "02f37d45",
   "metadata": {},
   "source": [
    "---\n",
    "title: \"18-有序多分类Logistic回归\"\n",
    "subtitle: \"Ordinal Logistic Regression\"\n",
    "author: \"Simon Zhou\"\n",
    "date: \"2025-05-08\"\n",
    "format: \n",
    "    html:\n",
    "        code-fold: false\n",
    "        fig_caption: true\n",
    "        number-sections: true\n",
    "        toc: true\n",
    "        toc-depth: 2\n",
    "---"
   ]
  },
  {
   "cell_type": "code",
   "execution_count": 1,
   "id": "f3847b39",
   "metadata": {},
   "outputs": [],
   "source": [
    "import stata_setup\n",
    "stata_setup.config('C:/Program Files/Stata18', 'mp', splash=False)"
   ]
  },
  {
   "cell_type": "markdown",
   "id": "eb13c32a",
   "metadata": {},
   "source": [
    "## 多分类变量\n",
    "\n",
    "多分类变量主要分为有序多分类和无序多分类变量\n",
    "\n",
    "### 有许多分类变量\n",
    "\n",
    "疾病分期；严重程度；发展阶段等\n",
    "\n",
    "### 无序多分类变量\n",
    "\n",
    "方位（东、南、西、北）；品牌等\n",
    "\n",
    "## 有序多分类\n",
    "### 有序多分类的原理\n",
    "\n",
    "1. 将y变量的n个分类拆分成n-1个二分类Logistic回归\n",
    "2. 例子中的Excellent; Good; Average; Fair; Poor拆分成:\n",
    "    - [Poor](1) vs. [Excellent + Good + Average+Fair](0)\n",
    "    - [Fair+Poor](1) vs. [Excellent + Good+ Average](0)\n",
    "    - [Average + Fair + Poor](1) vs. [Excellent + Good](0)\n",
    "    - [Good + Average + Fair + Poor](1) vs. [Excellent](0)\n",
    "\n",
    "### Proportional odds 假定\n",
    "\n",
    "1. 多个二元Logistic回归中，除了$\\beta_0$以外的系数相等\n",
    "$$Odds(Poor)/Odds(Excellent+Good+Average+Fair)\\\\\n",
    "= Odds(Fair+Poor)/Odds(Excellent+Good+Average)\\\\\n",
    "=Odds(Average+Fair+Poor)/Odds(Excellent+Good)\\\\\n",
    "= Odds(Good+Average+Fair+Poor)/Odds(Excellent)$$\n",
    "2. Proportionalodds假定是否成立更多是由研究问题的自身性质决定，可以用数据进行检测，但数据本身可能有Bias\n",
    "3. 如果该假定不成立:当做无序多分类Logistic回归"
   ]
  },
  {
   "cell_type": "markdown",
   "id": "b7a72b9b",
   "metadata": {},
   "source": [
    "## 导入数据\n",
    "\n",
    "1977年汽车修理记录数据"
   ]
  },
  {
   "cell_type": "code",
   "execution_count": 2,
   "id": "02e056db",
   "metadata": {},
   "outputs": [
    {
     "name": "stdout",
     "output_type": "stream",
     "text": [
      "(Automobile models)\n"
     ]
    }
   ],
   "source": [
    "%%stata\n",
    "webuse fullauto.dta,clear"
   ]
  },
  {
   "cell_type": "markdown",
   "id": "6b4d51cf",
   "metadata": {},
   "source": [
    "### 结局变量\n",
    "\n",
    "outcome：车辆维修状况"
   ]
  },
  {
   "cell_type": "code",
   "execution_count": 3,
   "id": "27cbec93",
   "metadata": {},
   "outputs": [
    {
     "name": "stdout",
     "output_type": "stream",
     "text": [
      "\n",
      "-------------------------------------------------------------------------------\n",
      "rep77                                                        Repair record 1977\n",
      "-------------------------------------------------------------------------------\n",
      "\n",
      "                  Type: Numeric (byte)\n",
      "                 Label: repair\n",
      "\n",
      "                 Range: [1,5]                         Units: 1\n",
      "         Unique values: 5                         Missing .: 8/74\n",
      "\n",
      "            Tabulation: Freq.   Numeric  Label\n",
      "                            3         1  Poor\n",
      "                           11         2  Fair\n",
      "                           27         3  Average\n",
      "                           20         4  Good\n",
      "                            5         5  Excellent\n",
      "                            8         .  \n"
     ]
    }
   ],
   "source": [
    "%%stata\n",
    "codebook rep77"
   ]
  },
  {
   "cell_type": "markdown",
   "id": "4f691813",
   "metadata": {},
   "source": [
    "### 暴露变量\n",
    "\n",
    "exposure：是否为进口车"
   ]
  },
  {
   "cell_type": "code",
   "execution_count": 4,
   "id": "74cdacdd",
   "metadata": {},
   "outputs": [
    {
     "name": "stdout",
     "output_type": "stream",
     "text": [
      "\n",
      "-------------------------------------------------------------------------------\n",
      "foreign                                                                 Foreign\n",
      "-------------------------------------------------------------------------------\n",
      "\n",
      "                  Type: Numeric (byte)\n",
      "                 Label: foreign\n",
      "\n",
      "                 Range: [0,1]                         Units: 1\n",
      "         Unique values: 2                         Missing .: 0/74\n",
      "\n",
      "            Tabulation: Freq.   Numeric  Label\n",
      "                           52         0  Domestic\n",
      "                           22         1  Foreign\n"
     ]
    }
   ],
   "source": [
    "%%stata\n",
    "codebook foreign"
   ]
  },
  {
   "cell_type": "markdown",
   "id": "d13b0dd4",
   "metadata": {},
   "source": [
    "## 卡方检验\n",
    "\n",
    "$H_0$：车辆是否为进口车和车辆维修状况没有关系"
   ]
  },
  {
   "cell_type": "code",
   "execution_count": 5,
   "id": "34f3c47b",
   "metadata": {},
   "outputs": [
    {
     "name": "stdout",
     "output_type": "stream",
     "text": [
      "\n",
      "           |                   Repair record 1977\n",
      "   Foreign |      Poor       Fair    Average       Good  Excellent |     Total\n",
      "-----------+-------------------------------------------------------+----------\n",
      "  Domestic |         2         10         20         13          0 |        45 \n",
      "   Foreign |         1          1          7          7          5 |        21 \n",
      "-----------+-------------------------------------------------------+----------\n",
      "     Total |         3         11         27         20          5 |        66 \n",
      "\n",
      "          Pearson chi2(4) =  13.8619   Pr = 0.008\n"
     ]
    }
   ],
   "source": [
    "%%stata\n",
    "tab foreign rep77,chi2"
   ]
  },
  {
   "cell_type": "markdown",
   "id": "066ca40e",
   "metadata": {},
   "source": [
    "$P=0.008<0.05$，在$\\alpha=0.05$ 的检验水准下，拒绝零假设，得出结论:车辆是否为进口车和车辆维修状况有关系"
   ]
  },
  {
   "cell_type": "markdown",
   "id": "dd4e586f",
   "metadata": {},
   "source": [
    "## 有序Logistic回归\n",
    "\n",
    "### 语法\n",
    "\n",
    "```stata\n",
    "ologit y x1 x2 x3 ...xn [if] [in] [weight] [,options]\n",
    "```\n",
    "\n",
    "- 最常用的 `[,options]` 是 `or`,他可以直接给出`OR`值\n",
    "- Examples：\n",
    "    - ologit rep77 foreign\n",
    "    - ologit rep77 foreign, or\n",
    "    - ologit rep77 foreign length mpg, or"
   ]
  },
  {
   "cell_type": "code",
   "execution_count": 6,
   "id": "5e956f80",
   "metadata": {},
   "outputs": [
    {
     "name": "stdout",
     "output_type": "stream",
     "text": [
      "\n",
      "Iteration 0:  Log likelihood = -89.895098  \n",
      "Iteration 1:  Log likelihood = -85.951765  \n",
      "Iteration 2:  Log likelihood = -85.908227  \n",
      "Iteration 3:  Log likelihood = -85.908161  \n",
      "Iteration 4:  Log likelihood = -85.908161  \n",
      "\n",
      "Ordered logistic regression                             Number of obs =     66\n",
      "                                                        LR chi2(1)    =   7.97\n",
      "                                                        Prob > chi2   = 0.0047\n",
      "Log likelihood = -85.908161                             Pseudo R2     = 0.0444\n",
      "\n",
      "------------------------------------------------------------------------------\n",
      "       rep77 | Coefficient  Std. err.      z    P>|z|     [95% conf. interval]\n",
      "-------------+----------------------------------------------------------------\n",
      "     foreign |   1.455878   .5308951     2.74   0.006     .4153425    2.496413\n",
      "-------------+----------------------------------------------------------------\n",
      "       /cut1 |  -2.765562   .5988208                     -3.939229   -1.591895\n",
      "       /cut2 |  -.9963603   .3217706                     -1.627019   -.3657016\n",
      "       /cut3 |   .9426153   .3136398                      .3278925    1.557338\n",
      "       /cut4 |   3.123351   .5423257                      2.060412     4.18629\n",
      "------------------------------------------------------------------------------\n"
     ]
    }
   ],
   "source": [
    "%%stata\n",
    "ologit rep77 foreign"
   ]
  },
  {
   "cell_type": "markdown",
   "id": "54da4f03",
   "metadata": {},
   "source": [
    "进口车（foreign=1）和国产车（foreign=0）比：\n",
    "\n",
    "$$Odds=e^{-1.46}=0.23$$\n",
    "\n",
    "- 更高维修状况等级为reference，在更低维修状况的odds\n",
    "\n",
    "也可以是：\n",
    "\n",
    "$$Odds=e^{\\beta}=e^{1.46}=4.29$$\n",
    "\n",
    "- 更低维修状况等级为reference，在更高维修状况的odds\n",
    "\n",
    "进口(Foreign=1)车和国产车相比(Foreign=0)，在“更低的车辆维修状况等级”的odds是在“更高维修状况等级”的0.23倍\n",
    "\n",
    "**一般使用如下假释**：进口(Foreign=1)车和国产车相比(Foreign=0)，在“更高的车辆维修状况等级”的odds是在“更低维修状况等级”的4.29倍"
   ]
  },
  {
   "cell_type": "code",
   "execution_count": 7,
   "id": "d127dbfb",
   "metadata": {},
   "outputs": [
    {
     "name": "stdout",
     "output_type": "stream",
     "text": [
      "\n",
      "Iteration 0:  Log likelihood = -89.895098  \n",
      "Iteration 1:  Log likelihood = -85.951765  \n",
      "Iteration 2:  Log likelihood = -85.908227  \n",
      "Iteration 3:  Log likelihood = -85.908161  \n",
      "Iteration 4:  Log likelihood = -85.908161  \n",
      "\n",
      "Ordered logistic regression                             Number of obs =     66\n",
      "                                                        LR chi2(1)    =   7.97\n",
      "                                                        Prob > chi2   = 0.0047\n",
      "Log likelihood = -85.908161                             Pseudo R2     = 0.0444\n",
      "\n",
      "------------------------------------------------------------------------------\n",
      "       rep77 | Odds ratio   Std. err.      z    P>|z|     [95% conf. interval]\n",
      "-------------+----------------------------------------------------------------\n",
      "     foreign |   4.288246   2.276609     2.74   0.006      1.51489    12.13888\n",
      "-------------+----------------------------------------------------------------\n",
      "       /cut1 |  -2.765562   .5988208                     -3.939229   -1.591895\n",
      "       /cut2 |  -.9963603   .3217706                     -1.627019   -.3657016\n",
      "       /cut3 |   .9426153   .3136398                      .3278925    1.557338\n",
      "       /cut4 |   3.123351   .5423257                      2.060412     4.18629\n",
      "------------------------------------------------------------------------------\n",
      "Note: Estimates are transformed only in the first equation to odds ratios.\n"
     ]
    }
   ],
   "source": [
    "%%stata\n",
    "ologit rep77 foreign,or"
   ]
  },
  {
   "cell_type": "code",
   "execution_count": 8,
   "id": "e65a541b",
   "metadata": {},
   "outputs": [
    {
     "name": "stdout",
     "output_type": "stream",
     "text": [
      "\n",
      "Iteration 0:  Log likelihood = -89.895098  \n",
      "Iteration 1:  Log likelihood = -78.775147  \n",
      "Iteration 2:  Log likelihood = -78.254294  \n",
      "Iteration 3:  Log likelihood = -78.250719  \n",
      "Iteration 4:  Log likelihood = -78.250719  \n",
      "\n",
      "Ordered logistic regression                             Number of obs =     66\n",
      "                                                        LR chi2(3)    =  23.29\n",
      "                                                        Prob > chi2   = 0.0000\n",
      "Log likelihood = -78.250719                             Pseudo R2     = 0.1295\n",
      "\n",
      "------------------------------------------------------------------------------\n",
      "       rep77 | Odds ratio   Std. err.      z    P>|z|     [95% conf. interval]\n",
      "-------------+----------------------------------------------------------------\n",
      "     foreign |    18.1162   14.32342     3.66   0.000     3.846558    85.32223\n",
      "      length |   1.086354    .024682     3.65   0.000      1.03904    1.135823\n",
      "         mpg |   1.259567   .0887425     3.28   0.001     1.097109     1.44608\n",
      "-------------+----------------------------------------------------------------\n",
      "       /cut1 |   17.92748   5.551191                      7.047344    28.80761\n",
      "       /cut2 |   19.86506    5.59648                      8.896161    30.83396\n",
      "       /cut3 |   22.10331   5.708936                        10.914    33.29262\n",
      "       /cut4 |   24.69213   5.890754                      13.14647     36.2378\n",
      "------------------------------------------------------------------------------\n",
      "Note: Estimates are transformed only in the first equation to odds ratios.\n"
     ]
    }
   ],
   "source": [
    "%%stata\n",
    "ologit rep77 foreign length mpg,or"
   ]
  },
  {
   "cell_type": "markdown",
   "id": "58b5de81",
   "metadata": {},
   "source": [
    "- 在控制了汽车的长度、里程之后，进口车有着更高车辆维修状况等级的odds是国产车的18.12倍(95%CI:3.85,85.32)\n",
    "- 在控制了汽车的产地、里程之后，车辆每增加1 inch，有更高车辆维修状况的odds增加8.64%(95% CI: 3.90,13.58)\n",
    "- mpg"
   ]
  }
 ],
 "metadata": {
  "kernelspec": {
   "display_name": "Python 3",
   "language": "python",
   "name": "python3"
  },
  "language_info": {
   "codemirror_mode": {
    "name": "ipython",
    "version": 3
   },
   "file_extension": ".py",
   "mimetype": "text/x-python",
   "name": "python",
   "nbconvert_exporter": "python",
   "pygments_lexer": "ipython3",
   "version": "3.12.9"
  }
 },
 "nbformat": 4,
 "nbformat_minor": 5
}

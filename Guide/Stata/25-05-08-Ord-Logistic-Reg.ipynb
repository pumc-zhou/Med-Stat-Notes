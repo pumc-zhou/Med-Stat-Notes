{
 "cells": [
  {
   "cell_type": "markdown",
   "id": "02f37d45",
   "metadata": {},
   "source": [
    "---\n",
    "title: \"18-有序多分类Logistic回归\"\n",
    "subtitle: \"Ordinal Logistic Regression\"\n",
    "author: \"Simon Zhou\"\n",
    "date: \"2025-05-08\"\n",
    "format: \n",
    "    html:\n",
    "        code-fold: false\n",
    "        fig_caption: true\n",
    "        number-sections: true\n",
    "        toc: true\n",
    "        toc-depth: 2\n",
    "---"
   ]
  },
  {
   "cell_type": "code",
   "execution_count": null,
   "id": "f3847b39",
   "metadata": {
    "vscode": {
     "languageId": "plaintext"
    }
   },
   "outputs": [],
   "source": [
    "import stata_setup\n",
    "stata_setup.config('C:/Program Files/Stata18', 'mp', splash=False)"
   ]
  }
 ],
 "metadata": {
  "language_info": {
   "name": "python"
  }
 },
 "nbformat": 4,
 "nbformat_minor": 5
}

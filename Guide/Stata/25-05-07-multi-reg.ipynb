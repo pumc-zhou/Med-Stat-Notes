{
 "cells": [
  {
   "cell_type": "markdown",
   "id": "958b4c6c",
   "metadata": {},
   "source": [
    "---\n",
    "title: \"12-多元线性回归\"\n",
    "subtitle: \"Multiple Linear Regression\"\n",
    "author: \"Simon Zhou\"\n",
    "date: \"2025-05-07\"\n",
    "format: \n",
    "    html:\n",
    "        code-fold: false\n",
    "        fig_caption: true\n",
    "        number-sections: true\n",
    "        toc: true\n",
    "        toc-depth: 2\n",
    "---"
   ]
  },
  {
   "cell_type": "code",
   "execution_count": 1,
   "id": "c11608a0",
   "metadata": {},
   "outputs": [],
   "source": [
    "import stata_setup\n",
    "stata_setup.config('C:/Program Files/Stata18', 'mp', splash=False)"
   ]
  },
  {
   "cell_type": "markdown",
   "id": "02dbd730",
   "metadata": {},
   "source": [
    "## 导入数据"
   ]
  },
  {
   "cell_type": "code",
   "execution_count": 2,
   "id": "146a7d18",
   "metadata": {},
   "outputs": [
    {
     "name": "stdout",
     "output_type": "stream",
     "text": [
      "(1978 automobile data)\n"
     ]
    }
   ],
   "source": [
    "%%stata\n",
    "sysuse auto.dta,clear"
   ]
  },
  {
   "cell_type": "markdown",
   "id": "3c58c788",
   "metadata": {},
   "source": [
    "## 区分简单线性回归和多元线性回归\n",
    "\n",
    "简单线性回归形如：$y=\\beta_0+\\beta_1 x$，例如："
   ]
  },
  {
   "cell_type": "code",
   "execution_count": 3,
   "id": "d5eca2c9",
   "metadata": {},
   "outputs": [
    {
     "name": "stdout",
     "output_type": "stream",
     "text": [
      "\n",
      "      Source |       SS           df       MS      Number of obs   =        74\n",
      "-------------+----------------------------------   F(1, 72)        =     29.42\n",
      "       Model |   184233937         1   184233937   Prob > F        =    0.0000\n",
      "    Residual |   450831459        72  6261548.04   R-squared       =    0.2901\n",
      "-------------+----------------------------------   Adj R-squared   =    0.2802\n",
      "       Total |   635065396        73  8699525.97   Root MSE        =    2502.3\n",
      "\n",
      "------------------------------------------------------------------------------\n",
      "       price | Coefficient  Std. err.      t    P>|t|     [95% conf. interval]\n",
      "-------------+----------------------------------------------------------------\n",
      "      weight |   2.044063   .3768341     5.42   0.000     1.292857    2.795268\n",
      "       _cons |  -6.707353    1174.43    -0.01   0.995     -2347.89    2334.475\n",
      "------------------------------------------------------------------------------\n"
     ]
    }
   ],
   "source": [
    "%%stata\n",
    "reg price weight"
   ]
  },
  {
   "cell_type": "markdown",
   "id": "d951d51d",
   "metadata": {},
   "source": [
    "$\\beta_1$：汽车的重量每增加一个单位，售价增加 2.04 个单位(95%CI:1.29,2.80)\n",
    "\n",
    "`_cons` 是 $\\beta_0$，即是截距，但是要注意符号与实际的区别\n",
    "\n",
    "多元线性模型即不止一个自变量，形如：$y=\\beta_0+\\beta_1 x_1 +\\beta_2 x_2 + \\dots$"
   ]
  },
  {
   "cell_type": "code",
   "execution_count": 4,
   "id": "f57ab454",
   "metadata": {},
   "outputs": [
    {
     "name": "stdout",
     "output_type": "stream",
     "text": [
      "\n",
      "      Source |       SS           df       MS      Number of obs   =        74\n",
      "-------------+----------------------------------   F(2, 71)        =     18.91\n",
      "       Model |   220725280         2   110362640   Prob > F        =    0.0000\n",
      "    Residual |   414340116        71  5835776.28   R-squared       =    0.3476\n",
      "-------------+----------------------------------   Adj R-squared   =    0.3292\n",
      "       Total |   635065396        73  8699525.97   Root MSE        =    2415.7\n",
      "\n",
      "------------------------------------------------------------------------------\n",
      "       price | Coefficient  Std. err.      t    P>|t|     [95% conf. interval]\n",
      "-------------+----------------------------------------------------------------\n",
      "      weight |   4.699065   1.122339     4.19   0.000     2.461184    6.936946\n",
      "      length |  -97.96031    39.1746    -2.50   0.015    -176.0722   -19.84838\n",
      "       _cons |   10386.54   4308.159     2.41   0.019     1796.316    18976.76\n",
      "------------------------------------------------------------------------------\n"
     ]
    }
   ],
   "source": [
    "%%stata\n",
    "reg price weight length"
   ]
  },
  {
   "cell_type": "markdown",
   "id": "ccb819a9",
   "metadata": {},
   "source": [
    "$\\beta_2$(length)：在控制 weight 变量后，汽车的 length 每增加一个单位，售价减少 97.96 个单位(95%CI:-176.07,2.-19.85)"
   ]
  },
  {
   "cell_type": "code",
   "execution_count": 5,
   "id": "03311f98",
   "metadata": {},
   "outputs": [
    {
     "name": "stdout",
     "output_type": "stream",
     "text": [
      "\n",
      "      Source |       SS           df       MS      Number of obs   =        74\n",
      "-------------+----------------------------------   F(3, 70)        =     12.98\n",
      "       Model |   226957412         3  75652470.6   Prob > F        =    0.0000\n",
      "    Residual |   408107984        70  5830114.06   R-squared       =    0.3574\n",
      "-------------+----------------------------------   Adj R-squared   =    0.3298\n",
      "       Total |   635065396        73  8699525.97   Root MSE        =    2414.6\n",
      "\n",
      "------------------------------------------------------------------------------\n",
      "       price | Coefficient  Std. err.      t    P>|t|     [95% conf. interval]\n",
      "-------------+----------------------------------------------------------------\n",
      "      weight |   4.364798   1.167455     3.74   0.000     2.036383    6.693213\n",
      "      length |  -104.8682   39.72154    -2.64   0.010    -184.0903   -25.64607\n",
      "         mpg |  -86.78928   83.94335    -1.03   0.305     -254.209    80.63046\n",
      "       _cons |   14542.43   5890.632     2.47   0.016      2793.94    26290.93\n",
      "------------------------------------------------------------------------------\n"
     ]
    }
   ],
   "source": [
    "%%stata\n",
    "reg price weight length mpg"
   ]
  },
  {
   "cell_type": "code",
   "execution_count": 6,
   "id": "afbcbd8d",
   "metadata": {},
   "outputs": [
    {
     "name": "stdout",
     "output_type": "stream",
     "text": [
      "\n",
      "      Source |       SS           df       MS      Number of obs   =        69\n",
      "-------------+----------------------------------   F(4, 64)        =     12.68\n",
      "       Model |   255066807         4  63766701.9   Prob > F        =    0.0000\n",
      "    Residual |   321730151        64  5027033.62   R-squared       =    0.4422\n",
      "-------------+----------------------------------   Adj R-squared   =    0.4074\n",
      "       Total |   576796959        68  8482308.22   Root MSE        =    2242.1\n",
      "\n",
      "------------------------------------------------------------------------------\n",
      "       price | Coefficient  Std. err.      t    P>|t|     [95% conf. interval]\n",
      "-------------+----------------------------------------------------------------\n",
      "      weight |   4.959534   1.119624     4.43   0.000     2.722827    7.196241\n",
      "      length |  -115.0177   38.56456    -2.98   0.004    -192.0592   -37.97612\n",
      "         mpg |  -106.7122   81.15836    -1.31   0.193    -268.8446    55.42027\n",
      "       rep78 |   910.9859   304.5274     2.99   0.004     302.6226    1519.349\n",
      "       _cons |   11934.51   5774.178     2.07   0.043     399.2604    23469.75\n",
      "------------------------------------------------------------------------------\n"
     ]
    }
   ],
   "source": [
    "%%stata\n",
    "reg price weight length mpg rep78"
   ]
  },
  {
   "cell_type": "markdown",
   "id": "1ab95465",
   "metadata": {},
   "source": [
    "$\\beta_4$ (rep78): 在控制了汽车的重量、长度、里程后，汽车的修理次数每增加一个单位，售价增加910.99个单位(95%CI:302.62,1519.35)\n",
    "\n",
    "这里 rep78 是一个连续变量，如果处理为多分类变量（哑变量）\n",
    "\n",
    "### 什么是哑变量？为什么要设置哑变量？\n",
    "\n",
    "当自变量X为多分类变量时，例如职业、学历、血型、疾病严重程度等等此时仅用一个回归系数来解释多分类变量之间的变化关系，及其对因变量Y的影响，就显得太不理想。\n",
    "\n",
    "### 如何设置哑变量\n",
    "\n",
    "- 在多分类变量前加上 \"i.\" 告诉Stata这不是连续变量\n",
    "- 形如："
   ]
  },
  {
   "cell_type": "code",
   "execution_count": 7,
   "id": "63088e26",
   "metadata": {},
   "outputs": [
    {
     "name": "stdout",
     "output_type": "stream",
     "text": [
      "\n",
      "      Source |       SS           df       MS      Number of obs   =        69\n",
      "-------------+----------------------------------   F(7, 61)        =      7.25\n",
      "       Model |   262008114         7  37429730.6   Prob > F        =    0.0000\n",
      "    Residual |   314788844        61  5160472.86   R-squared       =    0.4542\n",
      "-------------+----------------------------------   Adj R-squared   =    0.3916\n",
      "       Total |   576796959        68  8482308.22   Root MSE        =    2271.7\n",
      "\n",
      "------------------------------------------------------------------------------\n",
      "       price | Coefficient  Std. err.      t    P>|t|     [95% conf. interval]\n",
      "-------------+----------------------------------------------------------------\n",
      "      weight |   5.186695   1.163383     4.46   0.000     2.860367    7.513022\n",
      "      length |  -124.1544   40.07637    -3.10   0.003     -204.292   -44.01671\n",
      "         mpg |  -126.8367   84.49819    -1.50   0.138    -295.8012    42.12791\n",
      "             |\n",
      "       rep78 |\n",
      "          2  |   1137.284   1803.332     0.63   0.531    -2468.701    4743.269\n",
      "          3  |   1254.642   1661.545     0.76   0.453    -2067.823    4577.108\n",
      "          4  |   2267.188   1698.018     1.34   0.187    -1128.208    5662.584\n",
      "          5  |   3850.759   1787.272     2.15   0.035     276.8886     7424.63\n",
      "             |\n",
      "       _cons |   14614.49   6155.842     2.37   0.021     2305.125    26923.86\n",
      "------------------------------------------------------------------------------\n"
     ]
    }
   ],
   "source": [
    "%%stata\n",
    "reg price weight length mpg i.rep78"
   ]
  },
  {
   "cell_type": "markdown",
   "id": "7daacc2b",
   "metadata": {},
   "source": [
    "`rep78 2`:在控制了汽车的重量、长度、里程后，汽\n",
    "车的修理次数两次和一次相比，售价增加1137.28个单\n",
    "位(95%CI:-2468.70,4743.27)"
   ]
  },
  {
   "cell_type": "markdown",
   "id": "8707dec7",
   "metadata": {},
   "source": [
    "## 回归分析需要注意的事情\n",
    "\n",
    "- 时刻注意纳入模型的观测值数量\n",
    "  - Case-wise Deletion：只有纳入模型的变量都没有缺失值，这个观测值才会被纳入回归模型分析（有缺失会被系统默认剔除）\n",
    "- 如何让$\\beta_0$有意义？\n",
    "  - 使用$y=\\beta_0+\\beta_1(x-\\bar x)$\n",
    "  - 让$\\beta_0\\geq 0$"
   ]
  }
 ],
 "metadata": {
  "kernelspec": {
   "display_name": "Python 3",
   "language": "python",
   "name": "python3"
  },
  "language_info": {
   "codemirror_mode": {
    "name": "ipython",
    "version": 3
   },
   "file_extension": ".py",
   "mimetype": "text/x-python",
   "name": "python",
   "nbconvert_exporter": "python",
   "pygments_lexer": "ipython3",
   "version": "3.12.9"
  }
 },
 "nbformat": 4,
 "nbformat_minor": 5
}

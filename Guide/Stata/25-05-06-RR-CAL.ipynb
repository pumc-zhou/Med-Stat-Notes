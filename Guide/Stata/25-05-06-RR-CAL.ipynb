{
 "cells": [
  {
   "cell_type": "markdown",
   "id": "228243a2",
   "metadata": {},
   "source": [
    "---\n",
    "title: \"09-RR值与OR值的计算\"\n",
    "author: \"Simon Zhou\"\n",
    "date: \"2025-05-06\"\n",
    "format: \n",
    "    html:\n",
    "        code-fold: false\n",
    "        fig_caption: true\n",
    "        number-sections: true\n",
    "        toc: true\n",
    "        toc-depth: 2\n",
    "---"
   ]
  },
  {
   "cell_type": "code",
   "execution_count": 2,
   "id": "7164a87d",
   "metadata": {},
   "outputs": [],
   "source": [
    "import stata_setup\n",
    "stata_setup.config('C:/Program Files/Stata18', 'mp', splash=False)"
   ]
  },
  {
   "cell_type": "markdown",
   "id": "c75d9cc6",
   "metadata": {},
   "source": [
    "# RR值与OR值\n",
    "\n",
    "## RR值（Relative Risk）"
   ]
  },
  {
   "cell_type": "markdown",
   "id": "1c36af35",
   "metadata": {},
   "source": [
    "## 数据导入\n",
    "\n",
    "此章节使用网络数据，`csxmpl`"
   ]
  },
  {
   "cell_type": "code",
   "execution_count": 8,
   "id": "923e8bff",
   "metadata": {},
   "outputs": [
    {
     "name": "stdout",
     "output_type": "stream",
     "text": [
      "\n",
      ". webuse csxmpl, clear\n"
     ]
    },
    {
     "name": "stdout",
     "output_type": "stream",
     "text": [
      "\n",
      ". list\n",
      "\n",
      "     +------------------+\n",
      "     | case   exp   pop |\n",
      "     |------------------|\n",
      "  1. |    1     1     7 |\n",
      "  2. |    1     0    12 |\n",
      "  3. |    0     1     9 |\n",
      "  4. |    0     0     2 |\n",
      "     +------------------+\n",
      "\n",
      ". \n"
     ]
    }
   ],
   "source": [
    "%%stata\n",
    "webuse csxmpl, clear\n",
    "list"
   ]
  },
  {
   "cell_type": "code",
   "execution_count": 9,
   "id": "1bb9ab50",
   "metadata": {},
   "outputs": [
    {
     "name": "stdout",
     "output_type": "stream",
     "text": [
      "\n",
      "                 |        Exposed         |\n",
      "                 |   Exposed   Unexposed  |      Total\n",
      "-----------------+------------------------+-----------\n",
      "           Cases |         7          12  |         19\n",
      "        Noncases |         9           2  |         11\n",
      "-----------------+------------------------+-----------\n",
      "           Total |        16          14  |         30\n",
      "                 |                        |\n",
      "            Risk |     .4375    .8571429  |   .6333333\n",
      "                 |                        |\n",
      "                 |      Point estimate    |    [95% conf. interval]\n",
      "                 |------------------------+------------------------\n",
      " Risk difference |        -.4196429       |   -.7240828   -.1152029 \n",
      "      Risk ratio |         .5104167       |    .2814332    .9257086 \n",
      " Prev. frac. ex. |         .4895833       |    .0742914    .7185668 \n",
      " Prev. frac. pop |         .2611111       |\n",
      "                 +-------------------------------------------------\n",
      "                               chi2(1) =     5.66  Pr>chi2 = 0.0173\n"
     ]
    }
   ],
   "source": [
    "%%stata\n",
    "cs case exp [fweight = pop]"
   ]
  },
  {
   "cell_type": "markdown",
   "id": "dce5ef73",
   "metadata": {},
   "source": [
    "### RR 值计算\n",
    "\n",
    "```stata\n",
    "cs var_case var_exp [if] [in] [weight] [,cs_options]\n",
    "```\n",
    "\n",
    "```stata\n",
    "csi #a #b #c #d [,csi_options]\n",
    "```\n",
    "\n",
    "计算 RR 值使用 `cs` 命令，它是 `cohort study` 的缩写\n",
    "\n",
    "上面 `[fweight = pop]` 中使用 `pop` 进行频数加权 `fweight`\n",
    "\n",
    "`[,cs_options]` 可以修改置信区间等"
   ]
  },
  {
   "cell_type": "markdown",
   "id": "aa410f39",
   "metadata": {},
   "source": [
    "## OR值（Odds Ratio）\n",
    "\n",
    "### RR值与OR值的区别\n",
    "\n",
    "**RR值**：Cohort study或者RCT中，研究者前瞻性地观察“暴露组”和“非暴露组”的发病情况，之后通过RR来评价“暴露组”研究对象的发病风险是“非暴露组”研究对象的多少倍?这个“多少倍”就是RR值\n",
    "\n",
    "**OR值**：在回顾性研究(如case-control)中，研究对象是已经患病的“病例组”和未患病的“对照组”，研究者回顾性地调查病例组和对照组的暴露情况，因此无法计算发病率等指标。\n",
    "\n",
    "想知道相对风险仍是我们最终的目的。\n",
    "\n",
    "因此我们可以使用 OR值 来近似估计 RR值。\n",
    "\n",
    "1. 当终点事件发生率较低时，OR值可以近似为RR值（$<15%$）\n",
    "2. 当终点事件发生率较高时，OR会“夸大”RR值\n",
    "   - OR值相对于RR值“更远离1”\n",
    "   - 当RR值大于1时，OR大于RR($1<RR<OR$)\n",
    "   - 当RR值小于1时，OR小于RR($OR<RR<1$)\n",
    "   - 终点事件发生率越高时，OR越会overestimate\n",
    "\n",
    "对于多列研究/RCT，可以报告OR值吗？\n",
    "\n",
    "- 可以，但是不够准确/精准\n",
    "- RR值对于效应值的估计更加准确\n",
    "- RR值对于临床意义的解释更加明确\n",
    "- Regression model中：对于结局是二分类变量的研究，logistic回归只能提供OR值，不能提供RR值(当结局发生率高时，应该使用log-binomial回归或者使用带有稳健方差估计的泊松回归，直接提供RR值)"
   ]
  },
  {
   "cell_type": "markdown",
   "id": "f20a21a8",
   "metadata": {},
   "source": [
    "### OR值的计算\n",
    "\n",
    "语法：\n",
    "\n",
    "```stata\n",
    "cc var_case var_exp [if] [in] [weight] [,cc_options]\n",
    "```\n",
    "\n",
    "```stata\n",
    "cci #a #b #c #d [,cci_options]\n",
    "```"
   ]
  },
  {
   "cell_type": "markdown",
   "id": "da52e8ad",
   "metadata": {},
   "source": [
    "### 数据载入"
   ]
  },
  {
   "cell_type": "code",
   "execution_count": 13,
   "id": "480a110e",
   "metadata": {},
   "outputs": [
    {
     "name": "stdout",
     "output_type": "stream",
     "text": [
      "\n",
      ". webuse ccxmpl,clear\n",
      "\n",
      ". list\n",
      "\n",
      "     +-----------------------+\n",
      "     | case   exposed    pop |\n",
      "     |-----------------------|\n",
      "  1. |    1         1      4 |\n",
      "  2. |    1         0    386 |\n",
      "  3. |    0         1      4 |\n",
      "  4. |    0         0   1250 |\n",
      "     +-----------------------+\n",
      "\n",
      ". \n"
     ]
    }
   ],
   "source": [
    "%%stata\n",
    "webuse ccxmpl,clear\n",
    "list"
   ]
  },
  {
   "cell_type": "code",
   "execution_count": 14,
   "id": "9a07e6af",
   "metadata": {},
   "outputs": [
    {
     "name": "stdout",
     "output_type": "stream",
     "text": [
      "                                                         Proportion\n",
      "                 |   Exposed   Unexposed  |      Total      exposed\n",
      "-----------------+------------------------+------------------------\n",
      "           Cases |         4         386  |        390       0.0103\n",
      "        Controls |         4        1250  |       1254       0.0032\n",
      "-----------------+------------------------+------------------------\n",
      "           Total |         8        1636  |       1644       0.0049\n",
      "                 |                        |\n",
      "                 |      Point estimate    |    [95% conf. interval]\n",
      "                 |------------------------+------------------------\n",
      "      Odds ratio |         3.238342       |    .5997233    17.45614 (exact)\n",
      " Attr. frac. ex. |            .6912       |   -.6674356    .9427136 (exact)\n",
      " Attr. frac. pop |         .0070892       |\n",
      "                 +-------------------------------------------------\n",
      "                               chi2(1) =     3.07  Pr>chi2 = 0.0799\n"
     ]
    }
   ],
   "source": [
    "%%stata\n",
    "cc case exp [fweight = pop]"
   ]
  },
  {
   "cell_type": "code",
   "execution_count": 10,
   "id": "771fb396",
   "metadata": {},
   "outputs": [
    {
     "name": "stdout",
     "output_type": "stream",
     "text": [
      "                                                         Proportion\n",
      "                 |   Exposed   Unexposed  |      Total      exposed\n",
      "-----------------+------------------------+------------------------\n",
      "           Cases |         4         386  |        390       0.0103\n",
      "        Controls |         4        1250  |       1254       0.0032\n",
      "-----------------+------------------------+------------------------\n",
      "           Total |         8        1636  |       1644       0.0049\n",
      "                 |                        |\n",
      "                 |      Point estimate    |    [95% conf. interval]\n",
      "                 |------------------------+------------------------\n",
      "      Odds ratio |         3.238342       |    .5997233    17.45614 (exact)\n",
      " Attr. frac. ex. |            .6912       |   -.6674356    .9427136 (exact)\n",
      " Attr. frac. pop |         .0070892       |\n",
      "                 +-------------------------------------------------\n",
      "                               chi2(1) =     3.07  Pr>chi2 = 0.0799\n"
     ]
    }
   ],
   "source": [
    "%%stata\n",
    "cci 4 386 4 1250"
   ]
  }
 ],
 "metadata": {
  "kernelspec": {
   "display_name": "Python 3",
   "language": "python",
   "name": "python3"
  },
  "language_info": {
   "codemirror_mode": {
    "name": "ipython",
    "version": 3
   },
   "file_extension": ".py",
   "mimetype": "text/x-python",
   "name": "python",
   "nbconvert_exporter": "python",
   "pygments_lexer": "ipython3",
   "version": "3.12.9"
  }
 },
 "nbformat": 4,
 "nbformat_minor": 5
}

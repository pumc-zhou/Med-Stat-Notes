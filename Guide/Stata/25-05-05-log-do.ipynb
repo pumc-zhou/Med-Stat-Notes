{
 "cells": [
  {
   "cell_type": "markdown",
   "id": "04e3a272",
   "metadata": {},
   "source": [
    "---\n",
    "title: \"05-代码的可复现性与文件管理\"\n",
    "author: \"Simon Zhou\"\n",
    "date: \"2025-05-05\"\n",
    "format: \n",
    "    html:\n",
    "        code-fold: true\n",
    "        fig_caption: true\n",
    "        number-sections: true\n",
    "        toc: true\n",
    "        toc-depth: 2\n",
    "---"
   ]
  },
  {
   "cell_type": "code",
   "execution_count": 1,
   "id": "7c92b976",
   "metadata": {},
   "outputs": [],
   "source": [
    "import stata_setup\n",
    "stata_setup.config('C:/Program Files/Stata18', 'mp', splash=False)"
   ]
  },
  {
   "cell_type": "code",
   "execution_count": 20,
   "id": "95b3ac7e",
   "metadata": {},
   "outputs": [
    {
     "name": "stdout",
     "output_type": "stream",
     "text": [
      "\n",
      ". // 载入数据集，使用 Stata 的内置数据集 auto.dta\n",
      ". sysuse auto, clear\n",
      "(1978 automobile data)\n",
      "\n",
      ". \n"
     ]
    }
   ],
   "source": [
    "%%stata\n",
    "// 载入数据集，使用 Stata 的内置数据集 auto.dta\n",
    "sysuse auto, clear"
   ]
  },
  {
   "cell_type": "markdown",
   "id": "22272ee3",
   "metadata": {},
   "source": [
    "# 为什么要保持代码的可重复性\n",
    "\n",
    "1. 代码的可复现性是科学研究的基石之一。\n",
    "2. 方便自己和他人理解、使用和验证代码。\n",
    "3. 代码的可复现性可以提高研究的透明度和可信度。\n",
    "4. 代码的可复现性可以促进科学合作和知识共享。\n",
    "5. 代码的可复现性可以帮助我们更好地理解和应用数据分析和机器学习方法。\n",
    "6. 部分杂志要求作者提供代码和数据，以便审稿人和读者验证结果。"
   ]
  },
  {
   "cell_type": "markdown",
   "id": "11f7bf21",
   "metadata": {},
   "source": [
    "# 如何实现代码的可复现性\n",
    "\n",
    "- log file\n",
    "  - 记录代码运行的过程和结果，方便后续的调试和分析。\n",
    "  - 类似于代码的“快照”，可以帮助我们回溯到某个特定的状态。\n",
    "- Do file\n",
    "  - 给合作者和审稿人\n",
    "  - 提醒自己分析流程\n",
    "  - 存档，方便后续的复现和修改\n",
    "- 版本控制\n",
    "  - 使用版本控制工具（如Git）来管理代码的版本和变更。\n",
    "  - 记录每次修改的原因和内容，方便后续的回溯和比较。\n",
    "- 代码注释\n",
    "  - 在代码中添加注释，解释每个函数和变量的含义和作用。\n",
    "  - 方便自己和他人理解代码的逻辑和思路。\n",
    "- 代码规范\n",
    "  - 遵循统一的代码规范和风格，保持代码的一致性和可读性。\n",
    "  - 使用合适的命名规则，避免使用过于简短或模糊的变量名。\n",
    "- 文档化\n",
    "  - 为代码编写详细的文档，说明代码的功能、输入输出和使用方法。\n",
    "  - 提供示例和测试用例，方便他人理解和使用代码。"
   ]
  },
  {
   "cell_type": "markdown",
   "id": "b42054f0",
   "metadata": {},
   "source": [
    "## 代码规范\n",
    "\n",
    "```stata\n",
    "/* README: \n",
    "   1. 创建时间：2025-05-05\n",
    "   2. 上次修改时间：2025-05-08\n",
    "   3. 本文档的目的：用于探索数据&绘图&制表&建模\n",
    "   4. 本文档的依赖项：\n",
    "      - Stata > 17.0\n",
    "      - Data: data.dta or other.files\n",
    "      - packages: estout, outreg2, etc.\n",
    "   5. 输入数据：output.dta or other.files\n",
    "   6. 输出结果：results.txt\n",
    "   7. 如有问题，请联系作者或查看文档。\n",
    "Notes: \n",
    "   1. 本文档的内容仅供参考，作者不对其准确性和完整性负责。\n",
    "   2. 本文档的内容可能会随时更新，作者不保证其及时性和有效性。\n",
    "   3. 本文档的内容可能会受到版权保护，未经授权不得转载或引用。\n",
    "   4. 本文档的内容仅代表作者个人观点，不代表任何机构或组织的观点。\n",
    "   5. 其他信息：\n",
    "      - 作者：Simon Zhou\n",
    "      - 邮箱：\n",
    "*/\n",
    "\n",
    "* 代码如下：\n",
    "\n",
    "// 载入数据集，使用 Stata 的内置数据集 auto.dta\n",
    "sysuse auto, clear\n",
    "\n",
    "* 1. 数据探索\n",
    "describe\n",
    "summarize\n",
    "\n",
    "* 2. 绘制散点图\n",
    "twoway scatter mpg weight\n",
    "```"
   ]
  },
  {
   "cell_type": "markdown",
   "id": "cf89f1f5",
   "metadata": {},
   "source": [
    "# Log file\n",
    "\n",
    "- 将所有显示在 Stata 命令窗口的输出保存到一个文件中。\n",
    "- 方便后续的查看和分析。\n",
    "- 为什么需要 log file？\n",
    "  - 记录代码运行的过程和结果，方便后续的调试和分析。\n",
    "  - 类似于代码的“快照”，可以帮助我们回溯到某个特定的状态。\n",
    "  - 分许更加透明和可信。\n",
    "- 如何使用 log file？\n",
    "  - 使用 Log 命令来创建和管理 log file。\n",
    "  - 创建一个新的 log file\n",
    "\n",
    "```stata\n",
    "log using filename [, append replace [text|smcl name(logname)]\n",
    "```\n",
    "\n",
    "## append 和 replace 的区别\n",
    "- `append`：将新的输出追加到已有的 log file 中。\n",
    "- `replace`：替换已有的 log file，创建一个新的 log file。\n",
    "- 如果文件不存在，`append` 和 `replace` 的效果是一样的，都会创建一个新的 log file。\n",
    "- 如果文件已经存在，而用户没有指定 `append` 或 `replace`，Stata 会报错来询问用户如何选择。\n",
    "\n",
    "## text 和 smcl 的区别\n",
    "- `text`：创建一个纯文本格式的 log file，适合于在文本编辑器中查看和编辑，体积较小，只有单色。\n",
    "- `smcl`：创建一个 Stata 默认格式的 log file，适合于在 Stata 中查看和编辑，可以保存各种颜色。\n",
    "\n",
    "## name(logname) 的作用\n",
    "- `name(logname)`：给 log file 起一个名字，方便后续的引用和管理。\n",
    "- 如果不指定，Stata 会自动生成一个默认的名字，通常是以日期和时间为基础的字符串。\n",
    "- 如果用户给 log file 起了名字（不是 filename），那么用户就可以同时打开好几个 log file。\n",
    "\n",
    "## 结束 log file\n",
    "- 如果没有起名字，可以世界使用 `log close` 命令来结束 log file。\n",
    "- 如果用户没有结束 log file，Stata 会在退出时自动结束 log file。\n",
    "- 如果用户在 Stata 中打开了多个 log file，用户可以使用 `log close logfile-name` 命令来结束指定的 log file，或者使用 `log close _all` 命令来结束所有的 log file。"
   ]
  },
  {
   "cell_type": "code",
   "execution_count": 14,
   "id": "adb54a8b",
   "metadata": {},
   "outputs": [
    {
     "name": "stdout",
     "output_type": "stream",
     "text": [
      "\n",
      ". log close // 关闭现有的日志文件 \n",
      "      name:  <unnamed>\n",
      "       log:  C:\\Users\\asus\\Desktop\\test\\Stata-test\\Statatest.smcl\n",
      "  log type:  smcl\n",
      " closed on:   5 May 2025, 12:18:32\n",
      "-------------------------------------------------------------------------------\n",
      "\n",
      ". log using test,append\n",
      "(file C:\\Users\\asus\\Desktop\\test\\Stata-test\\test.smcl not found)\n",
      "-------------------------------------------------------------------------------\n",
      "      name:  <unnamed>\n",
      "       log:  C:\\Users\\asus\\Desktop\\test\\Stata-test\\test.smcl\n",
      "  log type:  smcl\n",
      " opened on:   5 May 2025, 12:18:32\n",
      "\n",
      ". log close _all // 关闭所有日志文件\n",
      "      name:  <unnamed>\n",
      "       log:  C:\\Users\\asus\\Desktop\\test\\Stata-test\\test.smcl\n",
      "  log type:  smcl\n",
      " closed on:   5 May 2025, 12:18:32\n",
      "-------------------------------------------------------------------------------\n",
      "\n",
      ". \n"
     ]
    }
   ],
   "source": [
    "%%stata\n",
    "log close // 关闭现有的日志文件 \n",
    "log using test,append\n",
    "log close _all // 关闭所有日志文件"
   ]
  },
  {
   "cell_type": "markdown",
   "id": "2d0707b7",
   "metadata": {},
   "source": [
    "# Do file\n",
    "- Do file 是 Stata 的脚本文件，用于存储和执行一系列的 Stata 命令。\n",
    "- Do file 可以帮助我们组织和管理代码，方便后续的修改和复现。\n",
    "- Do file 可以包含注释、变量、循环、条件语句等，类似于其他编程语言的脚本文件。\n",
    "- Do file 可以使用 `do` 命令来执行，也可以直接在 Stata 中打开和运行。\n",
    "- Do file 可以使用 `doedit` 命令来打开和编辑，也可以直接在 Stata 中创建和保存。\n",
    "\n",
    "## Do file 的基本语法\n",
    "\n",
    "### 注释\n",
    "- 使用 `*` 或 `//` 来添加单行注释，`*` 作为一行开头时，这一行都是注释。\n",
    "- - 在 Command 后添加注释使用 `//` 较好，并在 `//` 添加一些文字注释，以提醒或解释本行代码用途。\n",
    "- 使用 `/* ... */` 来添加多行注释。\n",
    "- 注释可以放在代码的前面或后面，也可以单独成行。"
   ]
  },
  {
   "cell_type": "code",
   "execution_count": 15,
   "id": "2f1282fe",
   "metadata": {},
   "outputs": [
    {
     "name": "stdout",
     "output_type": "stream",
     "text": [
      "\n",
      ". clear all // 清除所有变量和数据集\n",
      "\n",
      ". \n",
      ". pwd // 显示当前工作目录\n",
      "C:\\Users\\asus\\Desktop\\test\\Stata-test\n",
      "\n",
      ". cd \"C:\\Users\\asus\\Desktop\\test\\Stata-test\" // 更改工作目录到指定路径\n",
      "C:\\Users\\asus\\Desktop\\test\\Stata-test\n",
      "\n",
      ". // 注意：请将 \"YourUsername\" 替换为你的实际用户名\n",
      ". \n"
     ]
    }
   ],
   "source": [
    "%%stata\n",
    "clear all // 清除所有变量和数据集\n",
    "\n",
    "pwd // 显示当前工作目录\n",
    "cd \"C:\\Users\\asus\\Desktop\\test\\Stata-test\" // 更改工作目录到指定路径\n",
    "// 注意：请将 \"YourUsername\" 替换为你的实际用户名"
   ]
  },
  {
   "cell_type": "code",
   "execution_count": 17,
   "id": "0c2f914e",
   "metadata": {},
   "outputs": [
    {
     "name": "stdout",
     "output_type": "stream",
     "text": [
      "\n",
      ". *log close // 关闭现有的日志文件\n",
      ". log using Statatest, replace \n",
      "-------------------------------------------------------------------------------\n",
      "      name:  <unnamed>\n",
      "       log:  C:\\Users\\asus\\Desktop\\test\\Stata-test\\Statatest.smcl\n",
      "  log type:  smcl\n",
      " opened on:   5 May 2025, 12:18:53\n",
      "\n",
      ". // 创建一个新的日志文件，替换现有的文件\n",
      ". \n"
     ]
    }
   ],
   "source": [
    "%%stata\n",
    "*log close // 关闭现有的日志文件\n",
    "log using Statatest, replace \n",
    "// 创建一个新的日志文件，替换现有的文件"
   ]
  },
  {
   "cell_type": "code",
   "execution_count": 28,
   "id": "5f487cb6",
   "metadata": {},
   "outputs": [
    {
     "name": "stdout",
     "output_type": "stream",
     "text": [
      "\n",
      ". // 载入数据集，使用 Stata 的内置数据集 auto.dta\n",
      ". sysuse auto.dta, clear \n",
      "(1978 automobile data)\n",
      "\n",
      ". \n",
      ". ** 数据分析的探索性描述\n",
      ". sum price\n",
      "\n",
      "    Variable |        Obs        Mean    Std. dev.       Min        Max\n",
      "-------------+---------------------------------------------------------\n",
      "       price |         74    6165.257    2949.496       3291      15906\n",
      "\n",
      ". codebook mpg\n",
      "\n",
      "-------------------------------------------------------------------------------\n",
      "mpg                                                               Mileage (mpg)\n",
      "-------------------------------------------------------------------------------\n",
      "\n",
      "                  Type: Numeric (int)\n",
      "\n",
      "                 Range: [12,41]                       Units: 1\n",
      "         Unique values: 21                        Missing .: 0/74\n",
      "\n",
      "                  Mean: 21.2973\n",
      "             Std. dev.:  5.7855\n",
      "\n",
      "           Percentiles:     10%       25%       50%       75%       90%\n",
      "                             14        18        20        25        29\n",
      "\n",
      ". \n"
     ]
    }
   ],
   "source": [
    "%%stata\n",
    "// 载入数据集，使用 Stata 的内置数据集 auto.dta\n",
    "sysuse auto.dta, clear \n",
    "\n",
    "** 数据分析的探索性描述\n",
    "sum price\n",
    "codebook mpg"
   ]
  },
  {
   "cell_type": "code",
   "execution_count": 29,
   "id": "ffc9fc86",
   "metadata": {},
   "outputs": [
    {
     "name": "stdout",
     "output_type": "stream",
     "text": [
      "\n",
      ". ci mean rep78\n",
      "\n",
      "    Variable |        Obs        Mean    Std. err.       [95% conf. interval]\n",
      "-------------+---------------------------------------------------------------\n",
      "       rep78 |         69    3.405797    .1191738        3.167989    3.643605\n",
      "\n",
      ". corr weight length\n",
      "(obs=74)\n",
      "\n",
      "             |   weight   length\n",
      "-------------+------------------\n",
      "      weight |   1.0000\n",
      "      length |   0.9460   1.0000\n",
      "\n",
      "\n",
      ". \n"
     ]
    }
   ],
   "source": [
    "%%stata\n",
    "ci mean rep78\n",
    "corr weight length"
   ]
  },
  {
   "cell_type": "markdown",
   "id": "bd96b290",
   "metadata": {},
   "source": [
    "### copy the \"Command\" \n",
    "\n",
    "如果用户使用交互页面来选择相关的操作，Stata 会在命令窗口中显示用户操作所对应的命令。\n",
    "\n",
    "用户可以直接复制这些命令到 Do file 中，方便后续的修改和复现。"
   ]
  }
 ],
 "metadata": {
  "kernelspec": {
   "display_name": "Python 3",
   "language": "python",
   "name": "python3"
  },
  "language_info": {
   "codemirror_mode": {
    "name": "ipython",
    "version": 3
   },
   "file_extension": ".py",
   "mimetype": "text/x-python",
   "name": "python",
   "nbconvert_exporter": "python",
   "pygments_lexer": "ipython3",
   "version": "3.12.9"
  }
 },
 "nbformat": 4,
 "nbformat_minor": 5
}

{
 "cells": [
  {
   "cell_type": "markdown",
   "id": "caad190d",
   "metadata": {},
   "source": [
    "---\n",
    "title: \"06-t检验（t-test）\"\n",
    "author: \"Simon Zhou\"\n",
    "date: \"2025-05-05\"\n",
    "format: \n",
    "    html:\n",
    "        code-fold: true\n",
    "        fig_caption: true\n",
    "        number-sections: true\n",
    "        toc: true\n",
    "        toc-depth: 2\n",
    "---"
   ]
  },
  {
   "cell_type": "code",
   "execution_count": 1,
   "id": "a8bc257b",
   "metadata": {},
   "outputs": [],
   "source": [
    "import stata_setup\n",
    "stata_setup.config('C:/Program Files/Stata18', 'mp', splash=False)"
   ]
  },
  {
   "cell_type": "markdown",
   "id": "ed55df5d",
   "metadata": {},
   "source": [
    "## 数据导入"
   ]
  },
  {
   "cell_type": "code",
   "execution_count": 2,
   "id": "6766ebf5",
   "metadata": {},
   "outputs": [
    {
     "name": "stdout",
     "output_type": "stream",
     "text": [
      "(1978 automobile data)\n"
     ]
    }
   ],
   "source": [
    "%%stata\n",
    "webuse auto.dta, clear"
   ]
  },
  {
   "cell_type": "markdown",
   "id": "1b0dcfe6",
   "metadata": {},
   "source": [
    "# 单样本 t 检验(one-sample t-test)\n",
    "\n",
    "交互页面的操作更为简单和直观，直接选择数据集和变量即可。\n",
    "\n",
    "当然通过代码也可以实现相同的功能，但是相对而言更考验用户的代码功底、统计知识储备和对数据的理解。\n"
   ]
  },
  {
   "cell_type": "code",
   "execution_count": 3,
   "id": "33b1f95a",
   "metadata": {},
   "outputs": [
    {
     "name": "stdout",
     "output_type": "stream",
     "text": [
      "\n",
      "One-sample t test\n",
      "------------------------------------------------------------------------------\n",
      "Variable |     Obs        Mean    Std. err.   Std. dev.   [95% conf. interval]\n",
      "---------+--------------------------------------------------------------------\n",
      "   price |      74    6165.257    342.8719    2949.496    5481.914      6848.6\n",
      "------------------------------------------------------------------------------\n",
      "    mean = mean(price)                                            t =   0.4820\n",
      "H0: mean = 6000                                  Degrees of freedom =       73\n",
      "\n",
      "   Ha: mean < 6000             Ha: mean != 6000               Ha: mean > 6000\n",
      " Pr(T < t) = 0.6844         Pr(|T| > |t|) = 0.6313          Pr(T > t) = 0.3156\n"
     ]
    }
   ],
   "source": [
    "%%stata\n",
    "ttest price == 6000"
   ]
  },
  {
   "cell_type": "markdown",
   "id": "7ebac116",
   "metadata": {},
   "source": [
    "语法：\n",
    "\n",
    "```stata\n",
    "ttest varname == # [if] [in] [,level(#)] [by(varname)]\n",
    "```\n",
    "\n",
    "- `varname`：要进行 t 检验的变量名\n",
    "- `#`：要进行 t 检验的值\n",
    "- `if`：条件语句，表示只对满足条件的观测进行 t 检验\n",
    "- `in`：表示只对数据集中的某些观测进行 t 检验\n",
    "- `level(#)`：置信水平，默认值为 95%，可以设置 `#` 为 90%、95% 或 99%\n",
    "- `by`：分组变量，表示对不同组进行 t 检验"
   ]
  },
  {
   "cell_type": "markdown",
   "id": "ff7b0f31",
   "metadata": {},
   "source": [
    "## 独立样本 t 检验 (two-samples t-test)\n",
    "\n",
    "语法：\n",
    "\n",
    "```stata\n",
    "ttest varname, by(groupvar) [if] [in] [,level(#)]\n",
    "```"
   ]
  },
  {
   "cell_type": "code",
   "execution_count": 4,
   "id": "b2c5a10f",
   "metadata": {},
   "outputs": [
    {
     "name": "stdout",
     "output_type": "stream",
     "text": [
      "\n",
      "Two-sample t test with equal variances\n",
      "------------------------------------------------------------------------------\n",
      "   Group |     Obs        Mean    Std. err.   Std. dev.   [95% conf. interval]\n",
      "---------+--------------------------------------------------------------------\n",
      "Domestic |      52    6072.423    429.4911    3097.104    5210.184    6934.662\n",
      " Foreign |      22    6384.682    558.9942    2621.915     5222.19    7547.174\n",
      "---------+--------------------------------------------------------------------\n",
      "Combined |      74    6165.257    342.8719    2949.496    5481.914      6848.6\n",
      "---------+--------------------------------------------------------------------\n",
      "    diff |           -312.2587    754.4488               -1816.225    1191.708\n",
      "------------------------------------------------------------------------------\n",
      "    diff = mean(Domestic) - mean(Foreign)                         t =  -0.4139\n",
      "H0: diff = 0                                     Degrees of freedom =       72\n",
      "\n",
      "    Ha: diff < 0                 Ha: diff != 0                 Ha: diff > 0\n",
      " Pr(T < t) = 0.3401         Pr(|T| > |t|) = 0.6802          Pr(T > t) = 0.6599\n"
     ]
    }
   ],
   "source": [
    "%%stata\n",
    "ttest price, by(foreign)"
   ]
  },
  {
   "cell_type": "markdown",
   "id": "61c66291",
   "metadata": {},
   "source": [
    "## 两个变量的比较\n",
    "\n",
    "### 非配对样本\n",
    "\n",
    "```stata\n",
    "ttest var1 == var2 [if] [in] ,unpaired [level(#)]\n",
    "```"
   ]
  },
  {
   "cell_type": "code",
   "execution_count": 5,
   "id": "a68a3aca",
   "metadata": {},
   "outputs": [
    {
     "name": "stdout",
     "output_type": "stream",
     "text": [
      "\n",
      ". webuse fuel.dta, clear\n",
      "\n",
      ". ttest mpg1 == mpg2, unpaired\n",
      "\n",
      "Two-sample t test with equal variances\n",
      "------------------------------------------------------------------------------\n",
      "Variable |     Obs        Mean    Std. err.   Std. dev.   [95% conf. interval]\n",
      "---------+--------------------------------------------------------------------\n",
      "    mpg1 |      12          21    .7881701    2.730301    19.26525    22.73475\n",
      "    mpg2 |      12       22.75    .9384465    3.250874    20.68449    24.81551\n",
      "---------+--------------------------------------------------------------------\n",
      "Combined |      24      21.875    .6264476    3.068954    20.57909    23.17091\n",
      "---------+--------------------------------------------------------------------\n",
      "    diff |               -1.75    1.225518               -4.291568    .7915684\n",
      "------------------------------------------------------------------------------\n",
      "    diff = mean(mpg1) - mean(mpg2)                                t =  -1.4280\n",
      "H0: diff = 0                                     Degrees of freedom =       22\n",
      "\n",
      "    Ha: diff < 0                 Ha: diff != 0                 Ha: diff > 0\n",
      " Pr(T < t) = 0.0837         Pr(|T| > |t|) = 0.1673          Pr(T > t) = 0.9163\n",
      "\n",
      ". \n"
     ]
    }
   ],
   "source": [
    "%%stata\n",
    "webuse fuel.dta, clear\n",
    "ttest mpg1 == mpg2, unpaired"
   ]
  },
  {
   "cell_type": "markdown",
   "id": "0423928c",
   "metadata": {},
   "source": [
    "### 配对样本 t 检验 (paired t-test)\n",
    "\n",
    "语法：\n",
    "\n",
    "```stata\n",
    "ttest var1 == var2 [if] [in] ,[level(#)]\n",
    "```"
   ]
  },
  {
   "cell_type": "code",
   "execution_count": 6,
   "id": "a4f829e7",
   "metadata": {},
   "outputs": [
    {
     "name": "stdout",
     "output_type": "stream",
     "text": [
      "\n",
      ". webuse fuel.dta, clear\n",
      "\n",
      ". ttest mpg1 == mpg2\n",
      "\n",
      "Paired t test\n",
      "------------------------------------------------------------------------------\n",
      "Variable |     Obs        Mean    Std. err.   Std. dev.   [95% conf. interval]\n",
      "---------+--------------------------------------------------------------------\n",
      "    mpg1 |      12          21    .7881701    2.730301    19.26525    22.73475\n",
      "    mpg2 |      12       22.75    .9384465    3.250874    20.68449    24.81551\n",
      "---------+--------------------------------------------------------------------\n",
      "    diff |      12       -1.75    .7797144     2.70101    -3.46614   -.0338602\n",
      "------------------------------------------------------------------------------\n",
      "     mean(diff) = mean(mpg1 - mpg2)                               t =  -2.2444\n",
      " H0: mean(diff) = 0                              Degrees of freedom =       11\n",
      "\n",
      " Ha: mean(diff) < 0           Ha: mean(diff) != 0           Ha: mean(diff) > 0\n",
      " Pr(T < t) = 0.0232         Pr(|T| > |t|) = 0.0463          Pr(T > t) = 0.9768\n",
      "\n",
      ". \n"
     ]
    }
   ],
   "source": [
    "%%stata\n",
    "webuse fuel.dta, clear\n",
    "ttest mpg1 == mpg2"
   ]
  }
 ],
 "metadata": {
  "kernelspec": {
   "display_name": "Python 3",
   "language": "python",
   "name": "python3"
  },
  "language_info": {
   "codemirror_mode": {
    "name": "ipython",
    "version": 3
   },
   "file_extension": ".py",
   "mimetype": "text/x-python",
   "name": "python",
   "nbconvert_exporter": "python",
   "pygments_lexer": "ipython3",
   "version": "3.12.9"
  }
 },
 "nbformat": 4,
 "nbformat_minor": 5
}

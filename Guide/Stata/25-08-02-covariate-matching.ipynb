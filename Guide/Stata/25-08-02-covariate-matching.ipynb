{
 "cells": [
  {
   "cell_type": "markdown",
   "id": "1c2fb838",
   "metadata": {},
   "source": [
    "---\n",
    "title: \"26-因果推断中的协变量匹配\"\n",
    "author: \"Simonzhou\"\n",
    "date: \"2025-08-02\"\n",
    "date-modified: \"2025-08-02\"\n",
    "format: \n",
    "    html:\n",
    "        code-fold: false\n",
    "        code-line-numbers: true\n",
    "        code-highlight: true\n",
    "        fig_caption: true\n",
    "        number-sections: true\n",
    "        toc: true\n",
    "        toc-depth: 3\n",
    "---"
   ]
  },
  {
   "cell_type": "code",
   "execution_count": 9,
   "id": "53cf96d7",
   "metadata": {},
   "outputs": [],
   "source": [
    "import stata_setup\n",
    "stata_setup.config('C:/Program Files/Stata18', 'mp', splash=False)"
   ]
  },
  {
   "cell_type": "markdown",
   "id": "e039d32c",
   "metadata": {},
   "source": [
    "这里将继续使用 `cfps2010.dta` 这个数据演示上述命令的使用方法。对该数据基本情况的介绍请参见第四章第五节。\n",
    "\n",
    "与第四章演示线性回归时相同，本章分析的因变量仍为 `lninc`，干预变量为 `college`。\n",
    "\n",
    "一元线性回归结果显示，在不控制任何变量的情况下，`college` 对 `lninc` 的回归系数为 0.824，这意味着，考上大学的样本和没有考上大学的样本在 `lninc` 上的均值差为 0.824。不过，考虑到这两个子样本在 `hukou`、`age`、`gender`、`race`、`sib-ling` 和 `fmedu` 这几个协变量上存在很大差异，上述结果很可能是有偏的。\n",
    "\n",
    "下面，我们将通过匹配法来校正干预组和控制组在这些协变量上的差异。"
   ]
  },
  {
   "cell_type": "code",
   "execution_count": 10,
   "id": "77bb8cb0",
   "metadata": {},
   "outputs": [
    {
     "name": "stdout",
     "output_type": "stream",
     "text": [
      "\n",
      ". use \"../../Data/causal-inference/cfps2010.dta\", clear\n",
      "\n",
      ". reg lninc college,vce(cluster provcd)\n",
      "\n",
      "Linear regression                               Number of obs     =      4,137\n",
      "                                                F(1, 24)          =     271.17\n",
      "                                                Prob > F          =     0.0000\n",
      "                                                R-squared         =     0.1095\n",
      "                                                Root MSE          =     1.1498\n",
      "\n",
      "                                (Std. err. adjusted for 25 clusters in provcd)\n",
      "------------------------------------------------------------------------------\n",
      "             |               Robust\n",
      "       lninc | Coefficient  std. err.      t    P>|t|     [95% conf. interval]\n",
      "-------------+----------------------------------------------------------------\n",
      "     college |    .823612   .0500155    16.47   0.000     .7203851     .926839\n",
      "       _cons |   9.353189   .1084703    86.23   0.000     9.129317    9.577061\n",
      "------------------------------------------------------------------------------\n",
      "\n",
      ". \n"
     ]
    }
   ],
   "source": [
    "%%stata\n",
    "use \"../../Data/causal-inference/cfps2010.dta\", clear\n",
    "reg lninc college,vce(cluster provcd)"
   ]
  },
  {
   "cell_type": "markdown",
   "id": "56c58da2",
   "metadata": {},
   "source": [
    "我们使用的第一种方法是精确匹配。首先，我们仅对 hukou 这一个变量实施精确匹配，具体如下："
   ]
  },
  {
   "cell_type": "code",
   "execution_count": 11,
   "id": "ac244dc7",
   "metadata": {},
   "outputs": [
    {
     "name": "stdout",
     "output_type": "stream",
     "text": [
      "\n",
      "Treatment-effects estimation                   Number of obs      =      4,137\n",
      "Estimator      : nearest-neighbor matching     Matches: requested =          1\n",
      "Outcome model  : matching                                     min =        786\n",
      "Distance metric: Mahalanobis                                  max =       1594\n",
      "------------------------------------------------------------------------------\n",
      "             |              AI robust\n",
      "       lninc | Coefficient  std. err.      z    P>|z|     [95% conf. interval]\n",
      "-------------+----------------------------------------------------------------\n",
      "ATE          |\n",
      "     college |\n",
      " (是 vs 否)  |   .8021249   .0337823    23.74   0.000     .7359127     .868337\n",
      "------------------------------------------------------------------------------\n"
     ]
    }
   ],
   "source": [
    "%%stata\n",
    "teffects nnmatch (lninc) (college),ematch(hukou)"
   ]
  },
  {
   "cell_type": "markdown",
   "id": "899eab3c",
   "metadata": {},
   "source": [
    "可以发现，在对 hukou 实施了精确匹配之后，college 对 lninc 的平均干预效应下降到了 0.802。\n",
    "\n",
    "如果我们同时对 hukou、age、gender、race、sibling 和 fmedu 实施精确匹配，其结果又会如何呢？"
   ]
  },
  {
   "cell_type": "code",
   "execution_count": 12,
   "id": "e348bbed",
   "metadata": {},
   "outputs": [
    {
     "ename": "SystemError",
     "evalue": "no exact matches for observation 4; use option osample() to identify all\nobservations with deficient matches\nr(459);\n",
     "output_type": "error",
     "traceback": [
      "\u001b[1;31m---------------------------------------------------------------------------\u001b[0m",
      "\u001b[1;31mSystemError\u001b[0m                               Traceback (most recent call last)",
      "Cell \u001b[1;32mIn[12], line 1\u001b[0m\n\u001b[1;32m----> 1\u001b[0m \u001b[43mget_ipython\u001b[49m\u001b[43m(\u001b[49m\u001b[43m)\u001b[49m\u001b[38;5;241;43m.\u001b[39;49m\u001b[43mrun_cell_magic\u001b[49m\u001b[43m(\u001b[49m\u001b[38;5;124;43m'\u001b[39;49m\u001b[38;5;124;43mstata\u001b[39;49m\u001b[38;5;124;43m'\u001b[39;49m\u001b[43m,\u001b[49m\u001b[43m \u001b[49m\u001b[38;5;124;43m'\u001b[39;49m\u001b[38;5;124;43m'\u001b[39;49m\u001b[43m,\u001b[49m\u001b[43m \u001b[49m\u001b[38;5;124;43m'\u001b[39;49m\u001b[38;5;124;43mteffects nnmatch (lninc) (college),ematch(hukou age gender race sibling fmedu)\u001b[39;49m\u001b[38;5;130;43;01m\\n\u001b[39;49;00m\u001b[38;5;124;43m'\u001b[39;49m\u001b[43m)\u001b[49m\n",
      "File \u001b[1;32mc:\\Users\\asus\\AppData\\Local\\Programs\\Python\\Python312\\Lib\\site-packages\\IPython\\core\\interactiveshell.py:2543\u001b[0m, in \u001b[0;36mInteractiveShell.run_cell_magic\u001b[1;34m(self, magic_name, line, cell)\u001b[0m\n\u001b[0;32m   2541\u001b[0m \u001b[38;5;28;01mwith\u001b[39;00m \u001b[38;5;28mself\u001b[39m\u001b[38;5;241m.\u001b[39mbuiltin_trap:\n\u001b[0;32m   2542\u001b[0m     args \u001b[38;5;241m=\u001b[39m (magic_arg_s, cell)\n\u001b[1;32m-> 2543\u001b[0m     result \u001b[38;5;241m=\u001b[39m \u001b[43mfn\u001b[49m\u001b[43m(\u001b[49m\u001b[38;5;241;43m*\u001b[39;49m\u001b[43margs\u001b[49m\u001b[43m,\u001b[49m\u001b[43m \u001b[49m\u001b[38;5;241;43m*\u001b[39;49m\u001b[38;5;241;43m*\u001b[39;49m\u001b[43mkwargs\u001b[49m\u001b[43m)\u001b[49m\n\u001b[0;32m   2545\u001b[0m \u001b[38;5;66;03m# The code below prevents the output from being displayed\u001b[39;00m\n\u001b[0;32m   2546\u001b[0m \u001b[38;5;66;03m# when using magics with decorator @output_can_be_silenced\u001b[39;00m\n\u001b[0;32m   2547\u001b[0m \u001b[38;5;66;03m# when the last Python token in the expression is a ';'.\u001b[39;00m\n\u001b[0;32m   2548\u001b[0m \u001b[38;5;28;01mif\u001b[39;00m \u001b[38;5;28mgetattr\u001b[39m(fn, magic\u001b[38;5;241m.\u001b[39mMAGIC_OUTPUT_CAN_BE_SILENCED, \u001b[38;5;28;01mFalse\u001b[39;00m):\n",
      "File \u001b[1;32mC:\\Program Files/Stata18\\utilities\\pystata\\ipython\\stpymagic.py:276\u001b[0m, in \u001b[0;36mPyStataMagic.stata\u001b[1;34m(self, line, cell, local_ns)\u001b[0m\n\u001b[0;32m    274\u001b[0m     _stata\u001b[38;5;241m.\u001b[39mrun(cell, quietly\u001b[38;5;241m=\u001b[39m\u001b[38;5;28;01mTrue\u001b[39;00m, inline\u001b[38;5;241m=\u001b[39m_config\u001b[38;5;241m.\u001b[39mstconfig[\u001b[38;5;124m'\u001b[39m\u001b[38;5;124mgrshow\u001b[39m\u001b[38;5;124m'\u001b[39m])\n\u001b[0;32m    275\u001b[0m \u001b[38;5;28;01melse\u001b[39;00m:\n\u001b[1;32m--> 276\u001b[0m     \u001b[43m_stata\u001b[49m\u001b[38;5;241;43m.\u001b[39;49m\u001b[43mrun\u001b[49m\u001b[43m(\u001b[49m\u001b[43mcell\u001b[49m\u001b[43m,\u001b[49m\u001b[43m \u001b[49m\u001b[43mquietly\u001b[49m\u001b[38;5;241;43m=\u001b[39;49m\u001b[38;5;28;43;01mFalse\u001b[39;49;00m\u001b[43m,\u001b[49m\u001b[43m \u001b[49m\u001b[43minline\u001b[49m\u001b[38;5;241;43m=\u001b[39;49m\u001b[43m_config\u001b[49m\u001b[38;5;241;43m.\u001b[39;49m\u001b[43mstconfig\u001b[49m\u001b[43m[\u001b[49m\u001b[38;5;124;43m'\u001b[39;49m\u001b[38;5;124;43mgrshow\u001b[39;49m\u001b[38;5;124;43m'\u001b[39;49m\u001b[43m]\u001b[49m\u001b[43m)\u001b[49m\n\u001b[0;32m    278\u001b[0m \u001b[38;5;28;01mif\u001b[39;00m \u001b[38;5;124m'\u001b[39m\u001b[38;5;124m-gw\u001b[39m\u001b[38;5;124m'\u001b[39m \u001b[38;5;129;01min\u001b[39;00m args \u001b[38;5;129;01mor\u001b[39;00m \u001b[38;5;124m'\u001b[39m\u001b[38;5;124m-gh\u001b[39m\u001b[38;5;124m'\u001b[39m \u001b[38;5;129;01min\u001b[39;00m args:\n\u001b[0;32m    279\u001b[0m     _config\u001b[38;5;241m.\u001b[39mset_graph_size(gwidth, gheight)\n",
      "File \u001b[1;32mC:\\Program Files/Stata18\\utilities\\pystata\\stata.py:313\u001b[0m, in \u001b[0;36mrun\u001b[1;34m(cmd, quietly, echo, inline)\u001b[0m\n\u001b[0;32m    311\u001b[0m \u001b[38;5;124m            _stata_wrk1(\u001b[39m\u001b[38;5;124m\"\u001b[39m\u001b[38;5;124mqui \u001b[39m\u001b[38;5;124m\"\u001b[39m\u001b[38;5;124m + cmds[0], echo)\u001b[39m\n\u001b[0;32m    312\u001b[0m \u001b[38;5;124m        else:\u001b[39m\n\u001b[1;32m--> 313\u001b[0m \u001b[38;5;124m            _stata_wrk1(cmds[0], echo)\u001b[39m\n\u001b[0;32m    314\u001b[0m \u001b[38;5;124melse:\u001b[39m\n\u001b[0;32m    315\u001b[0m \u001b[38;5;124m    if inline:\u001b[39m\n",
      "File \u001b[1;32mC:\\Program Files/Stata18\\utilities\\pystata\\stata.py:71\u001b[0m, in \u001b[0;36m_stata_wrk1\u001b[1;34m(cmd, echo)\u001b[0m\n\u001b[0;32m     69\u001b[0m         err \u001b[38;5;241m=\u001b[39m callback[\u001b[38;5;241m0\u001b[39m]\n\u001b[0;32m     70\u001b[0m         callback\u001b[38;5;241m.\u001b[39mclear()\n\u001b[1;32m---> 71\u001b[0m         \u001b[38;5;28;01mraise\u001b[39;00m \u001b[38;5;167;01mSystemError\u001b[39;00m(err)\n\u001b[0;32m     72\u001b[0m \u001b[38;5;28;01mexcept\u001b[39;00m \u001b[38;5;167;01mKeyboardInterrupt\u001b[39;00m:\n\u001b[0;32m     73\u001b[0m     outputter\u001b[38;5;241m.\u001b[39mdone()\n",
      "\u001b[1;31mSystemError\u001b[0m: no exact matches for observation 4; use option osample() to identify all\nobservations with deficient matches\nr(459);\n"
     ]
    }
   ],
   "source": [
    "%%stata\n",
    "teffects nnmatch (lninc) (college),ematch(hukou age gender race sibling fmedu)"
   ]
  },
  {
   "cell_type": "markdown",
   "id": "6d98a334",
   "metadata": {},
   "source": [
    "从结果的输出看，Stata 给出了一个错误提示，提示内容无法为所有个案找到在所有协变量上取值都相同的匹配对象。\n",
    "\n",
    "于此同时，Stata 还给出了一个建议，即使用 option `osample()` 去标记那些匹配失败的个案。\n",
    "\n",
    "参照这个建议，我们在增加选项 `osample()` 后重新执行了上述命令。输出结果显示，有 593 名个案无法按照我们设定的要求实施精确匹配。\n",
    "\n",
    "对标识变量 `overlap` 进行统计描述也可以发现，有 593 名个案违反了共同取值范围假定。"
   ]
  },
  {
   "cell_type": "code",
   "execution_count": 13,
   "id": "bd33a1ea",
   "metadata": {},
   "outputs": [
    {
     "ename": "SystemError",
     "evalue": "593 observations have no exact matches; they are identified in the osample()\nvariable\nr(459);\n",
     "output_type": "error",
     "traceback": [
      "\u001b[1;31m---------------------------------------------------------------------------\u001b[0m",
      "\u001b[1;31mSystemError\u001b[0m                               Traceback (most recent call last)",
      "Cell \u001b[1;32mIn[13], line 1\u001b[0m\n\u001b[1;32m----> 1\u001b[0m \u001b[43mget_ipython\u001b[49m\u001b[43m(\u001b[49m\u001b[43m)\u001b[49m\u001b[38;5;241;43m.\u001b[39;49m\u001b[43mrun_cell_magic\u001b[49m\u001b[43m(\u001b[49m\u001b[38;5;124;43m'\u001b[39;49m\u001b[38;5;124;43mstata\u001b[39;49m\u001b[38;5;124;43m'\u001b[39;49m\u001b[43m,\u001b[49m\u001b[43m \u001b[49m\u001b[38;5;124;43m'\u001b[39;49m\u001b[38;5;124;43m'\u001b[39;49m\u001b[43m,\u001b[49m\u001b[43m \u001b[49m\u001b[38;5;124;43m'\u001b[39;49m\u001b[38;5;124;43mteffects nnmatch (lninc) (college),ematch(hukou age gender race sibling fmedu) osample(overlap)\u001b[39;49m\u001b[38;5;130;43;01m\\n\u001b[39;49;00m\u001b[38;5;124;43m'\u001b[39;49m\u001b[43m)\u001b[49m\n",
      "File \u001b[1;32mc:\\Users\\asus\\AppData\\Local\\Programs\\Python\\Python312\\Lib\\site-packages\\IPython\\core\\interactiveshell.py:2543\u001b[0m, in \u001b[0;36mInteractiveShell.run_cell_magic\u001b[1;34m(self, magic_name, line, cell)\u001b[0m\n\u001b[0;32m   2541\u001b[0m \u001b[38;5;28;01mwith\u001b[39;00m \u001b[38;5;28mself\u001b[39m\u001b[38;5;241m.\u001b[39mbuiltin_trap:\n\u001b[0;32m   2542\u001b[0m     args \u001b[38;5;241m=\u001b[39m (magic_arg_s, cell)\n\u001b[1;32m-> 2543\u001b[0m     result \u001b[38;5;241m=\u001b[39m \u001b[43mfn\u001b[49m\u001b[43m(\u001b[49m\u001b[38;5;241;43m*\u001b[39;49m\u001b[43margs\u001b[49m\u001b[43m,\u001b[49m\u001b[43m \u001b[49m\u001b[38;5;241;43m*\u001b[39;49m\u001b[38;5;241;43m*\u001b[39;49m\u001b[43mkwargs\u001b[49m\u001b[43m)\u001b[49m\n\u001b[0;32m   2545\u001b[0m \u001b[38;5;66;03m# The code below prevents the output from being displayed\u001b[39;00m\n\u001b[0;32m   2546\u001b[0m \u001b[38;5;66;03m# when using magics with decorator @output_can_be_silenced\u001b[39;00m\n\u001b[0;32m   2547\u001b[0m \u001b[38;5;66;03m# when the last Python token in the expression is a ';'.\u001b[39;00m\n\u001b[0;32m   2548\u001b[0m \u001b[38;5;28;01mif\u001b[39;00m \u001b[38;5;28mgetattr\u001b[39m(fn, magic\u001b[38;5;241m.\u001b[39mMAGIC_OUTPUT_CAN_BE_SILENCED, \u001b[38;5;28;01mFalse\u001b[39;00m):\n",
      "File \u001b[1;32mC:\\Program Files/Stata18\\utilities\\pystata\\ipython\\stpymagic.py:276\u001b[0m, in \u001b[0;36mPyStataMagic.stata\u001b[1;34m(self, line, cell, local_ns)\u001b[0m\n\u001b[0;32m    274\u001b[0m     _stata\u001b[38;5;241m.\u001b[39mrun(cell, quietly\u001b[38;5;241m=\u001b[39m\u001b[38;5;28;01mTrue\u001b[39;00m, inline\u001b[38;5;241m=\u001b[39m_config\u001b[38;5;241m.\u001b[39mstconfig[\u001b[38;5;124m'\u001b[39m\u001b[38;5;124mgrshow\u001b[39m\u001b[38;5;124m'\u001b[39m])\n\u001b[0;32m    275\u001b[0m \u001b[38;5;28;01melse\u001b[39;00m:\n\u001b[1;32m--> 276\u001b[0m     \u001b[43m_stata\u001b[49m\u001b[38;5;241;43m.\u001b[39;49m\u001b[43mrun\u001b[49m\u001b[43m(\u001b[49m\u001b[43mcell\u001b[49m\u001b[43m,\u001b[49m\u001b[43m \u001b[49m\u001b[43mquietly\u001b[49m\u001b[38;5;241;43m=\u001b[39;49m\u001b[38;5;28;43;01mFalse\u001b[39;49;00m\u001b[43m,\u001b[49m\u001b[43m \u001b[49m\u001b[43minline\u001b[49m\u001b[38;5;241;43m=\u001b[39;49m\u001b[43m_config\u001b[49m\u001b[38;5;241;43m.\u001b[39;49m\u001b[43mstconfig\u001b[49m\u001b[43m[\u001b[49m\u001b[38;5;124;43m'\u001b[39;49m\u001b[38;5;124;43mgrshow\u001b[39;49m\u001b[38;5;124;43m'\u001b[39;49m\u001b[43m]\u001b[49m\u001b[43m)\u001b[49m\n\u001b[0;32m    278\u001b[0m \u001b[38;5;28;01mif\u001b[39;00m \u001b[38;5;124m'\u001b[39m\u001b[38;5;124m-gw\u001b[39m\u001b[38;5;124m'\u001b[39m \u001b[38;5;129;01min\u001b[39;00m args \u001b[38;5;129;01mor\u001b[39;00m \u001b[38;5;124m'\u001b[39m\u001b[38;5;124m-gh\u001b[39m\u001b[38;5;124m'\u001b[39m \u001b[38;5;129;01min\u001b[39;00m args:\n\u001b[0;32m    279\u001b[0m     _config\u001b[38;5;241m.\u001b[39mset_graph_size(gwidth, gheight)\n",
      "File \u001b[1;32mC:\\Program Files/Stata18\\utilities\\pystata\\stata.py:313\u001b[0m, in \u001b[0;36mrun\u001b[1;34m(cmd, quietly, echo, inline)\u001b[0m\n\u001b[0;32m    311\u001b[0m \u001b[38;5;124m            _stata_wrk1(\u001b[39m\u001b[38;5;124m\"\u001b[39m\u001b[38;5;124mqui \u001b[39m\u001b[38;5;124m\"\u001b[39m\u001b[38;5;124m + cmds[0], echo)\u001b[39m\n\u001b[0;32m    312\u001b[0m \u001b[38;5;124m        else:\u001b[39m\n\u001b[1;32m--> 313\u001b[0m \u001b[38;5;124m            _stata_wrk1(cmds[0], echo)\u001b[39m\n\u001b[0;32m    314\u001b[0m \u001b[38;5;124melse:\u001b[39m\n\u001b[0;32m    315\u001b[0m \u001b[38;5;124m    if inline:\u001b[39m\n",
      "File \u001b[1;32mC:\\Program Files/Stata18\\utilities\\pystata\\stata.py:71\u001b[0m, in \u001b[0;36m_stata_wrk1\u001b[1;34m(cmd, echo)\u001b[0m\n\u001b[0;32m     69\u001b[0m         err \u001b[38;5;241m=\u001b[39m callback[\u001b[38;5;241m0\u001b[39m]\n\u001b[0;32m     70\u001b[0m         callback\u001b[38;5;241m.\u001b[39mclear()\n\u001b[1;32m---> 71\u001b[0m         \u001b[38;5;28;01mraise\u001b[39;00m \u001b[38;5;167;01mSystemError\u001b[39;00m(err)\n\u001b[0;32m     72\u001b[0m \u001b[38;5;28;01mexcept\u001b[39;00m \u001b[38;5;167;01mKeyboardInterrupt\u001b[39;00m:\n\u001b[0;32m     73\u001b[0m     outputter\u001b[38;5;241m.\u001b[39mdone()\n",
      "\u001b[1;31mSystemError\u001b[0m: 593 observations have no exact matches; they are identified in the osample()\nvariable\nr(459);\n"
     ]
    }
   ],
   "source": [
    "%%stata\n",
    "teffects nnmatch (lninc) (college),ematch(hukou age gender race sibling fmedu) osample(overlap)"
   ]
  },
  {
   "cell_type": "code",
   "execution_count": 14,
   "id": "5329d2fa",
   "metadata": {},
   "outputs": [
    {
     "name": "stdout",
     "output_type": "stream",
     "text": [
      "\n",
      "    overlap |\n",
      "  violation |\n",
      "  indicator |      Freq.     Percent        Cum.\n",
      "------------+-----------------------------------\n",
      "          0 |      3,544       85.67       85.67\n",
      "          1 |        593       14.33      100.00\n",
      "------------+-----------------------------------\n",
      "      Total |      4,137      100.00\n"
     ]
    }
   ],
   "source": [
    "%%stata\n",
    "tab overlap"
   ]
  }
 ],
 "metadata": {
  "kernelspec": {
   "display_name": "Python 3",
   "language": "python",
   "name": "python3"
  },
  "language_info": {
   "codemirror_mode": {
    "name": "ipython",
    "version": 3
   },
   "file_extension": ".py",
   "mimetype": "text/x-python",
   "name": "python",
   "nbconvert_exporter": "python",
   "pygments_lexer": "ipython3",
   "version": "3.12.9"
  }
 },
 "nbformat": 4,
 "nbformat_minor": 5
}

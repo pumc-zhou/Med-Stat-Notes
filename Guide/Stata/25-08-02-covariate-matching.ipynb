{
 "cells": [
  {
   "cell_type": "markdown",
   "id": "1c2fb838",
   "metadata": {},
   "source": [
    "---\n",
    "title: \"26-因果推断中的协变量匹配\"\n",
    "author: \"Simonzhou\"\n",
    "date: \"2025-08-02\"\n",
    "date-modified: \"2025-08-03\"\n",
    "format: \n",
    "    html:\n",
    "        code-fold: false\n",
    "        code-line-numbers: true\n",
    "        code-highlight: true\n",
    "        fig_caption: true\n",
    "        number-sections: true\n",
    "        toc: true\n",
    "        toc-depth: 3\n",
    "---"
   ]
  },
  {
   "cell_type": "code",
   "execution_count": 2,
   "id": "53cf96d7",
   "metadata": {},
   "outputs": [],
   "source": [
    "import stata_setup\n",
    "stata_setup.config('C:/Program Files/Stata18', 'mp', splash=False)"
   ]
  },
  {
   "cell_type": "markdown",
   "id": "e039d32c",
   "metadata": {},
   "source": [
    "这里将继续使用 `cfps2010.dta` 这个数据演示上述命令的使用方法。对该数据基本情况的介绍请参见第四章第五节。\n",
    "\n",
    "与第四章演示线性回归时相同，本章分析的因变量仍为 `lninc`，干预变量为 `college`。\n",
    "\n",
    "一元线性回归结果显示，在不控制任何变量的情况下，`college` 对 `lninc` 的回归系数为 0.824，这意味着，考上大学的样本和没有考上大学的样本在 `lninc` 上的均值差为 0.824。不过，考虑到这两个子样本在 `hukou`、`age`、`gender`、`race`、`sib-ling` 和 `fmedu` 这几个协变量上存在很大差异，上述结果很可能是有偏的。\n",
    "\n",
    "下面，我们将通过匹配法来校正干预组和控制组在这些协变量上的差异。"
   ]
  },
  {
   "cell_type": "code",
   "execution_count": 3,
   "id": "77bb8cb0",
   "metadata": {},
   "outputs": [
    {
     "name": "stdout",
     "output_type": "stream",
     "text": [
      "\n",
      ". use \"../../Data/causal-inference/cfps2010.dta\", clear\n",
      "\n",
      ". reg lninc college,vce(cluster provcd)\n",
      "\n",
      "Linear regression                               Number of obs     =      4,137\n",
      "                                                F(1, 24)          =     271.17\n",
      "                                                Prob > F          =     0.0000\n",
      "                                                R-squared         =     0.1095\n",
      "                                                Root MSE          =     1.1498\n",
      "\n",
      "                                (Std. err. adjusted for 25 clusters in provcd)\n",
      "------------------------------------------------------------------------------\n",
      "             |               Robust\n",
      "       lninc | Coefficient  std. err.      t    P>|t|     [95% conf. interval]\n",
      "-------------+----------------------------------------------------------------\n",
      "     college |    .823612   .0500155    16.47   0.000     .7203851     .926839\n",
      "       _cons |   9.353189   .1084703    86.23   0.000     9.129317    9.577061\n",
      "------------------------------------------------------------------------------\n",
      "\n",
      ". \n"
     ]
    }
   ],
   "source": [
    "%%stata\n",
    "use \"../../Data/causal-inference/cfps2010.dta\", clear\n",
    "reg lninc college,vce(cluster provcd)"
   ]
  },
  {
   "cell_type": "markdown",
   "id": "56c58da2",
   "metadata": {},
   "source": [
    "我们使用的第一种方法是精确匹配。首先，我们仅对 `hukou` 这一个变量实施精确匹配，具体如下："
   ]
  },
  {
   "cell_type": "code",
   "execution_count": 4,
   "id": "ac244dc7",
   "metadata": {},
   "outputs": [
    {
     "name": "stdout",
     "output_type": "stream",
     "text": [
      "\n",
      "Treatment-effects estimation                   Number of obs      =      4,137\n",
      "Estimator      : nearest-neighbor matching     Matches: requested =          1\n",
      "Outcome model  : matching                                     min =        786\n",
      "Distance metric: Mahalanobis                                  max =       1594\n",
      "------------------------------------------------------------------------------\n",
      "             |              AI robust\n",
      "       lninc | Coefficient  std. err.      z    P>|z|     [95% conf. interval]\n",
      "-------------+----------------------------------------------------------------\n",
      "ATE          |\n",
      "     college |\n",
      " (是 vs 否)  |   .8021249   .0337823    23.74   0.000     .7359127     .868337\n",
      "------------------------------------------------------------------------------\n"
     ]
    }
   ],
   "source": [
    "%%stata\n",
    "teffects nnmatch (lninc) (college),ematch(hukou)"
   ]
  },
  {
   "cell_type": "markdown",
   "id": "899eab3c",
   "metadata": {},
   "source": [
    "可以发现，在对 `hukou` 实施了精确匹配之后，`college` 对 `lninc` 的平均干预效应下降到了 0.802。\n",
    "\n",
    "如果我们同时对 `hukou`、`age`、`gender`、`race`、`sibling` 和 `fmedu` 实施精确匹配，其结果又会如何呢？"
   ]
  },
  {
   "cell_type": "code",
   "execution_count": 5,
   "id": "e348bbed",
   "metadata": {},
   "outputs": [
    {
     "ename": "SystemError",
     "evalue": "no exact matches for observation 4; use option osample() to identify all\nobservations with deficient matches\nr(459);\n",
     "output_type": "error",
     "traceback": [
      "\u001b[1;31m---------------------------------------------------------------------------\u001b[0m",
      "\u001b[1;31mSystemError\u001b[0m                               Traceback (most recent call last)",
      "Cell \u001b[1;32mIn[5], line 1\u001b[0m\n\u001b[1;32m----> 1\u001b[0m \u001b[43mget_ipython\u001b[49m\u001b[43m(\u001b[49m\u001b[43m)\u001b[49m\u001b[38;5;241;43m.\u001b[39;49m\u001b[43mrun_cell_magic\u001b[49m\u001b[43m(\u001b[49m\u001b[38;5;124;43m'\u001b[39;49m\u001b[38;5;124;43mstata\u001b[39;49m\u001b[38;5;124;43m'\u001b[39;49m\u001b[43m,\u001b[49m\u001b[43m \u001b[49m\u001b[38;5;124;43m'\u001b[39;49m\u001b[38;5;124;43m'\u001b[39;49m\u001b[43m,\u001b[49m\u001b[43m \u001b[49m\u001b[38;5;124;43m'\u001b[39;49m\u001b[38;5;124;43mteffects nnmatch (lninc) (college),ematch(hukou age gender race sibling fmedu)\u001b[39;49m\u001b[38;5;130;43;01m\\n\u001b[39;49;00m\u001b[38;5;124;43m'\u001b[39;49m\u001b[43m)\u001b[49m\n",
      "File \u001b[1;32mc:\\Users\\asus\\AppData\\Local\\Programs\\Python\\Python312\\Lib\\site-packages\\IPython\\core\\interactiveshell.py:2543\u001b[0m, in \u001b[0;36mInteractiveShell.run_cell_magic\u001b[1;34m(self, magic_name, line, cell)\u001b[0m\n\u001b[0;32m   2541\u001b[0m \u001b[38;5;28;01mwith\u001b[39;00m \u001b[38;5;28mself\u001b[39m\u001b[38;5;241m.\u001b[39mbuiltin_trap:\n\u001b[0;32m   2542\u001b[0m     args \u001b[38;5;241m=\u001b[39m (magic_arg_s, cell)\n\u001b[1;32m-> 2543\u001b[0m     result \u001b[38;5;241m=\u001b[39m \u001b[43mfn\u001b[49m\u001b[43m(\u001b[49m\u001b[38;5;241;43m*\u001b[39;49m\u001b[43margs\u001b[49m\u001b[43m,\u001b[49m\u001b[43m \u001b[49m\u001b[38;5;241;43m*\u001b[39;49m\u001b[38;5;241;43m*\u001b[39;49m\u001b[43mkwargs\u001b[49m\u001b[43m)\u001b[49m\n\u001b[0;32m   2545\u001b[0m \u001b[38;5;66;03m# The code below prevents the output from being displayed\u001b[39;00m\n\u001b[0;32m   2546\u001b[0m \u001b[38;5;66;03m# when using magics with decorator @output_can_be_silenced\u001b[39;00m\n\u001b[0;32m   2547\u001b[0m \u001b[38;5;66;03m# when the last Python token in the expression is a ';'.\u001b[39;00m\n\u001b[0;32m   2548\u001b[0m \u001b[38;5;28;01mif\u001b[39;00m \u001b[38;5;28mgetattr\u001b[39m(fn, magic\u001b[38;5;241m.\u001b[39mMAGIC_OUTPUT_CAN_BE_SILENCED, \u001b[38;5;28;01mFalse\u001b[39;00m):\n",
      "File \u001b[1;32mC:\\Program Files/Stata18\\utilities\\pystata\\ipython\\stpymagic.py:276\u001b[0m, in \u001b[0;36mPyStataMagic.stata\u001b[1;34m(self, line, cell, local_ns)\u001b[0m\n\u001b[0;32m    274\u001b[0m     _stata\u001b[38;5;241m.\u001b[39mrun(cell, quietly\u001b[38;5;241m=\u001b[39m\u001b[38;5;28;01mTrue\u001b[39;00m, inline\u001b[38;5;241m=\u001b[39m_config\u001b[38;5;241m.\u001b[39mstconfig[\u001b[38;5;124m'\u001b[39m\u001b[38;5;124mgrshow\u001b[39m\u001b[38;5;124m'\u001b[39m])\n\u001b[0;32m    275\u001b[0m \u001b[38;5;28;01melse\u001b[39;00m:\n\u001b[1;32m--> 276\u001b[0m     \u001b[43m_stata\u001b[49m\u001b[38;5;241;43m.\u001b[39;49m\u001b[43mrun\u001b[49m\u001b[43m(\u001b[49m\u001b[43mcell\u001b[49m\u001b[43m,\u001b[49m\u001b[43m \u001b[49m\u001b[43mquietly\u001b[49m\u001b[38;5;241;43m=\u001b[39;49m\u001b[38;5;28;43;01mFalse\u001b[39;49;00m\u001b[43m,\u001b[49m\u001b[43m \u001b[49m\u001b[43minline\u001b[49m\u001b[38;5;241;43m=\u001b[39;49m\u001b[43m_config\u001b[49m\u001b[38;5;241;43m.\u001b[39;49m\u001b[43mstconfig\u001b[49m\u001b[43m[\u001b[49m\u001b[38;5;124;43m'\u001b[39;49m\u001b[38;5;124;43mgrshow\u001b[39;49m\u001b[38;5;124;43m'\u001b[39;49m\u001b[43m]\u001b[49m\u001b[43m)\u001b[49m\n\u001b[0;32m    278\u001b[0m \u001b[38;5;28;01mif\u001b[39;00m \u001b[38;5;124m'\u001b[39m\u001b[38;5;124m-gw\u001b[39m\u001b[38;5;124m'\u001b[39m \u001b[38;5;129;01min\u001b[39;00m args \u001b[38;5;129;01mor\u001b[39;00m \u001b[38;5;124m'\u001b[39m\u001b[38;5;124m-gh\u001b[39m\u001b[38;5;124m'\u001b[39m \u001b[38;5;129;01min\u001b[39;00m args:\n\u001b[0;32m    279\u001b[0m     _config\u001b[38;5;241m.\u001b[39mset_graph_size(gwidth, gheight)\n",
      "File \u001b[1;32mC:\\Program Files/Stata18\\utilities\\pystata\\stata.py:313\u001b[0m, in \u001b[0;36mrun\u001b[1;34m(cmd, quietly, echo, inline)\u001b[0m\n\u001b[0;32m    311\u001b[0m \u001b[38;5;124m            _stata_wrk1(\u001b[39m\u001b[38;5;124m\"\u001b[39m\u001b[38;5;124mqui \u001b[39m\u001b[38;5;124m\"\u001b[39m\u001b[38;5;124m + cmds[0], echo)\u001b[39m\n\u001b[0;32m    312\u001b[0m \u001b[38;5;124m        else:\u001b[39m\n\u001b[1;32m--> 313\u001b[0m \u001b[38;5;124m            _stata_wrk1(cmds[0], echo)\u001b[39m\n\u001b[0;32m    314\u001b[0m \u001b[38;5;124melse:\u001b[39m\n\u001b[0;32m    315\u001b[0m \u001b[38;5;124m    if inline:\u001b[39m\n",
      "File \u001b[1;32mC:\\Program Files/Stata18\\utilities\\pystata\\stata.py:71\u001b[0m, in \u001b[0;36m_stata_wrk1\u001b[1;34m(cmd, echo)\u001b[0m\n\u001b[0;32m     69\u001b[0m         err \u001b[38;5;241m=\u001b[39m callback[\u001b[38;5;241m0\u001b[39m]\n\u001b[0;32m     70\u001b[0m         callback\u001b[38;5;241m.\u001b[39mclear()\n\u001b[1;32m---> 71\u001b[0m         \u001b[38;5;28;01mraise\u001b[39;00m \u001b[38;5;167;01mSystemError\u001b[39;00m(err)\n\u001b[0;32m     72\u001b[0m \u001b[38;5;28;01mexcept\u001b[39;00m \u001b[38;5;167;01mKeyboardInterrupt\u001b[39;00m:\n\u001b[0;32m     73\u001b[0m     outputter\u001b[38;5;241m.\u001b[39mdone()\n",
      "\u001b[1;31mSystemError\u001b[0m: no exact matches for observation 4; use option osample() to identify all\nobservations with deficient matches\nr(459);\n"
     ]
    }
   ],
   "source": [
    "%%stata\n",
    "teffects nnmatch (lninc) (college),ematch(hukou age gender race sibling fmedu)"
   ]
  },
  {
   "cell_type": "markdown",
   "id": "6d98a334",
   "metadata": {},
   "source": [
    "从结果的输出看，Stata 给出了一个错误提示，提示内容无法为所有个案找到在所有协变量上取值都相同的匹配对象。\n",
    "\n",
    "于此同时，Stata 还给出了一个建议，即使用 option `osample()` 去标记那些匹配失败的个案。\n",
    "\n",
    "参照这个建议，我们在增加选项 `osample()` 后重新执行了上述命令。输出结果显示，有 593 名个案无法按照我们设定的要求实施精确匹配。\n",
    "\n",
    "对标识变量 `overlap` 进行统计描述也可以发现，有 593 名个案违反了共同取值范围假定。"
   ]
  },
  {
   "cell_type": "code",
   "execution_count": 6,
   "id": "bd33a1ea",
   "metadata": {},
   "outputs": [
    {
     "ename": "SystemError",
     "evalue": "593 observations have no exact matches; they are identified in the osample()\nvariable\nr(459);\n",
     "output_type": "error",
     "traceback": [
      "\u001b[1;31m---------------------------------------------------------------------------\u001b[0m",
      "\u001b[1;31mSystemError\u001b[0m                               Traceback (most recent call last)",
      "Cell \u001b[1;32mIn[6], line 1\u001b[0m\n\u001b[1;32m----> 1\u001b[0m \u001b[43mget_ipython\u001b[49m\u001b[43m(\u001b[49m\u001b[43m)\u001b[49m\u001b[38;5;241;43m.\u001b[39;49m\u001b[43mrun_cell_magic\u001b[49m\u001b[43m(\u001b[49m\u001b[38;5;124;43m'\u001b[39;49m\u001b[38;5;124;43mstata\u001b[39;49m\u001b[38;5;124;43m'\u001b[39;49m\u001b[43m,\u001b[49m\u001b[43m \u001b[49m\u001b[38;5;124;43m'\u001b[39;49m\u001b[38;5;124;43m'\u001b[39;49m\u001b[43m,\u001b[49m\u001b[43m \u001b[49m\u001b[38;5;124;43m'\u001b[39;49m\u001b[38;5;124;43mteffects nnmatch (lninc) (college),ematch(hukou age gender race sibling fmedu) osample(overlap)\u001b[39;49m\u001b[38;5;130;43;01m\\n\u001b[39;49;00m\u001b[38;5;124;43m'\u001b[39;49m\u001b[43m)\u001b[49m\n",
      "File \u001b[1;32mc:\\Users\\asus\\AppData\\Local\\Programs\\Python\\Python312\\Lib\\site-packages\\IPython\\core\\interactiveshell.py:2543\u001b[0m, in \u001b[0;36mInteractiveShell.run_cell_magic\u001b[1;34m(self, magic_name, line, cell)\u001b[0m\n\u001b[0;32m   2541\u001b[0m \u001b[38;5;28;01mwith\u001b[39;00m \u001b[38;5;28mself\u001b[39m\u001b[38;5;241m.\u001b[39mbuiltin_trap:\n\u001b[0;32m   2542\u001b[0m     args \u001b[38;5;241m=\u001b[39m (magic_arg_s, cell)\n\u001b[1;32m-> 2543\u001b[0m     result \u001b[38;5;241m=\u001b[39m \u001b[43mfn\u001b[49m\u001b[43m(\u001b[49m\u001b[38;5;241;43m*\u001b[39;49m\u001b[43margs\u001b[49m\u001b[43m,\u001b[49m\u001b[43m \u001b[49m\u001b[38;5;241;43m*\u001b[39;49m\u001b[38;5;241;43m*\u001b[39;49m\u001b[43mkwargs\u001b[49m\u001b[43m)\u001b[49m\n\u001b[0;32m   2545\u001b[0m \u001b[38;5;66;03m# The code below prevents the output from being displayed\u001b[39;00m\n\u001b[0;32m   2546\u001b[0m \u001b[38;5;66;03m# when using magics with decorator @output_can_be_silenced\u001b[39;00m\n\u001b[0;32m   2547\u001b[0m \u001b[38;5;66;03m# when the last Python token in the expression is a ';'.\u001b[39;00m\n\u001b[0;32m   2548\u001b[0m \u001b[38;5;28;01mif\u001b[39;00m \u001b[38;5;28mgetattr\u001b[39m(fn, magic\u001b[38;5;241m.\u001b[39mMAGIC_OUTPUT_CAN_BE_SILENCED, \u001b[38;5;28;01mFalse\u001b[39;00m):\n",
      "File \u001b[1;32mC:\\Program Files/Stata18\\utilities\\pystata\\ipython\\stpymagic.py:276\u001b[0m, in \u001b[0;36mPyStataMagic.stata\u001b[1;34m(self, line, cell, local_ns)\u001b[0m\n\u001b[0;32m    274\u001b[0m     _stata\u001b[38;5;241m.\u001b[39mrun(cell, quietly\u001b[38;5;241m=\u001b[39m\u001b[38;5;28;01mTrue\u001b[39;00m, inline\u001b[38;5;241m=\u001b[39m_config\u001b[38;5;241m.\u001b[39mstconfig[\u001b[38;5;124m'\u001b[39m\u001b[38;5;124mgrshow\u001b[39m\u001b[38;5;124m'\u001b[39m])\n\u001b[0;32m    275\u001b[0m \u001b[38;5;28;01melse\u001b[39;00m:\n\u001b[1;32m--> 276\u001b[0m     \u001b[43m_stata\u001b[49m\u001b[38;5;241;43m.\u001b[39;49m\u001b[43mrun\u001b[49m\u001b[43m(\u001b[49m\u001b[43mcell\u001b[49m\u001b[43m,\u001b[49m\u001b[43m \u001b[49m\u001b[43mquietly\u001b[49m\u001b[38;5;241;43m=\u001b[39;49m\u001b[38;5;28;43;01mFalse\u001b[39;49;00m\u001b[43m,\u001b[49m\u001b[43m \u001b[49m\u001b[43minline\u001b[49m\u001b[38;5;241;43m=\u001b[39;49m\u001b[43m_config\u001b[49m\u001b[38;5;241;43m.\u001b[39;49m\u001b[43mstconfig\u001b[49m\u001b[43m[\u001b[49m\u001b[38;5;124;43m'\u001b[39;49m\u001b[38;5;124;43mgrshow\u001b[39;49m\u001b[38;5;124;43m'\u001b[39;49m\u001b[43m]\u001b[49m\u001b[43m)\u001b[49m\n\u001b[0;32m    278\u001b[0m \u001b[38;5;28;01mif\u001b[39;00m \u001b[38;5;124m'\u001b[39m\u001b[38;5;124m-gw\u001b[39m\u001b[38;5;124m'\u001b[39m \u001b[38;5;129;01min\u001b[39;00m args \u001b[38;5;129;01mor\u001b[39;00m \u001b[38;5;124m'\u001b[39m\u001b[38;5;124m-gh\u001b[39m\u001b[38;5;124m'\u001b[39m \u001b[38;5;129;01min\u001b[39;00m args:\n\u001b[0;32m    279\u001b[0m     _config\u001b[38;5;241m.\u001b[39mset_graph_size(gwidth, gheight)\n",
      "File \u001b[1;32mC:\\Program Files/Stata18\\utilities\\pystata\\stata.py:313\u001b[0m, in \u001b[0;36mrun\u001b[1;34m(cmd, quietly, echo, inline)\u001b[0m\n\u001b[0;32m    311\u001b[0m \u001b[38;5;124m            _stata_wrk1(\u001b[39m\u001b[38;5;124m\"\u001b[39m\u001b[38;5;124mqui \u001b[39m\u001b[38;5;124m\"\u001b[39m\u001b[38;5;124m + cmds[0], echo)\u001b[39m\n\u001b[0;32m    312\u001b[0m \u001b[38;5;124m        else:\u001b[39m\n\u001b[1;32m--> 313\u001b[0m \u001b[38;5;124m            _stata_wrk1(cmds[0], echo)\u001b[39m\n\u001b[0;32m    314\u001b[0m \u001b[38;5;124melse:\u001b[39m\n\u001b[0;32m    315\u001b[0m \u001b[38;5;124m    if inline:\u001b[39m\n",
      "File \u001b[1;32mC:\\Program Files/Stata18\\utilities\\pystata\\stata.py:71\u001b[0m, in \u001b[0;36m_stata_wrk1\u001b[1;34m(cmd, echo)\u001b[0m\n\u001b[0;32m     69\u001b[0m         err \u001b[38;5;241m=\u001b[39m callback[\u001b[38;5;241m0\u001b[39m]\n\u001b[0;32m     70\u001b[0m         callback\u001b[38;5;241m.\u001b[39mclear()\n\u001b[1;32m---> 71\u001b[0m         \u001b[38;5;28;01mraise\u001b[39;00m \u001b[38;5;167;01mSystemError\u001b[39;00m(err)\n\u001b[0;32m     72\u001b[0m \u001b[38;5;28;01mexcept\u001b[39;00m \u001b[38;5;167;01mKeyboardInterrupt\u001b[39;00m:\n\u001b[0;32m     73\u001b[0m     outputter\u001b[38;5;241m.\u001b[39mdone()\n",
      "\u001b[1;31mSystemError\u001b[0m: 593 observations have no exact matches; they are identified in the osample()\nvariable\nr(459);\n"
     ]
    }
   ],
   "source": [
    "%%stata\n",
    "teffects nnmatch (lninc) (college),ematch(hukou age gender race sibling fmedu) osample(overlap)"
   ]
  },
  {
   "cell_type": "code",
   "execution_count": 7,
   "id": "5329d2fa",
   "metadata": {},
   "outputs": [
    {
     "name": "stdout",
     "output_type": "stream",
     "text": [
      "\n",
      "    overlap |\n",
      "  violation |\n",
      "  indicator |      Freq.     Percent        Cum.\n",
      "------------+-----------------------------------\n",
      "          0 |      3,544       85.67       85.67\n",
      "          1 |        593       14.33      100.00\n",
      "------------+-----------------------------------\n",
      "      Total |      4,137      100.00\n"
     ]
    }
   ],
   "source": [
    "%%stata\n",
    "tab overlap"
   ]
  },
  {
   "cell_type": "markdown",
   "id": "758ee65a",
   "metadata": {},
   "source": [
    "在同时对多个变量实施精确匹配，且变量中包含像 `age` 这样的连续变量的时候，精确匹配必然会遭遇维度诅咒，其最直接的表现就是匹配后的样本量大为下降。\n",
    "\n",
    "为了避免损失过多样本，我们尝试对 `age`、`race` 和 `sibling` 这三个变量实施马氏匹配，其余变量依然采用精确匹配。具体如下："
   ]
  },
  {
   "cell_type": "code",
   "execution_count": 8,
   "id": "586b911e",
   "metadata": {},
   "outputs": [
    {
     "name": "stdout",
     "output_type": "stream",
     "text": [
      "\n",
      "Treatment-effects estimation                   Number of obs      =      4,137\n",
      "Estimator      : nearest-neighbor matching     Matches: requested =          1\n",
      "Outcome model  : matching                                     min =          1\n",
      "Distance metric: Mahalanobis                                  max =         50\n",
      "------------------------------------------------------------------------------\n",
      "             |              AI robust\n",
      "       lninc | Coefficient  std. err.      z    P>|z|     [95% conf. interval]\n",
      "-------------+----------------------------------------------------------------\n",
      "ATE          |\n",
      "     college |\n",
      " (是 vs 否)  |   .7699847    .041446    18.58   0.000     .6887521    .8512174\n",
      "------------------------------------------------------------------------------\n"
     ]
    }
   ],
   "source": [
    "%%stata\n",
    "teffects nnmatch (lninc age race sibling) (college),ematch(hukou gender fmedu)"
   ]
  },
  {
   "cell_type": "markdown",
   "id": "3ffbadd7",
   "metadata": {},
   "source": [
    "可以发现，在对 `age`、`race` 和 `sibling` 这三个变量实施马氏匹配以后，软件不再提示有匹配失败的问题，且给出了 ATE 的估计值为 0.770.\n",
    "\n",
    "上面演示的马氏匹配采用的是默认的 1 对 1 匹配，若要采用 1 对多匹配，需要使用选项 `nneighbor()`。具体来说，我们可以参照阿巴迪和因本斯的建议采用 1 对 4 匹配，同时使用 1 对 4 匹配下的稳健标准误，具体如下："
   ]
  },
  {
   "cell_type": "code",
   "execution_count": 9,
   "id": "b43bebae",
   "metadata": {},
   "outputs": [
    {
     "name": "stdout",
     "output_type": "stream",
     "text": [
      "\n",
      "Treatment-effects estimation                   Number of obs      =      4,137\n",
      "Estimator      : nearest-neighbor matching     Matches: requested =          4\n",
      "Outcome model  : matching                                     min =          4\n",
      "Distance metric: Mahalanobis                                  max =         50\n",
      "------------------------------------------------------------------------------\n",
      "             |              AI robust\n",
      "       lninc | Coefficient  std. err.      z    P>|z|     [95% conf. interval]\n",
      "-------------+----------------------------------------------------------------\n",
      "ATE          |\n",
      "     college |\n",
      " (是 vs 否)  |   .7936157   .0392848    20.20   0.000     .7166189    .8706125\n",
      "------------------------------------------------------------------------------\n"
     ]
    }
   ],
   "source": [
    "%%stata\n",
    "teffects nnmatch (lninc age race sibling) (college),ematch(hukou gender fmedu) nneighbor(4) vce(robust,nn(4))"
   ]
  },
  {
   "cell_type": "markdown",
   "id": "6414902f",
   "metadata": {},
   "source": [
    "可以发现，1 对 4 匹配时的 ATE 为 0.794，与 1 对 1 匹配是很接近，因此分析结果总体上来说是稳健的。\n",
    "\n",
    "不过，马氏匹配并不能完全消除干预组和对照组在协变量上的差异。为了解决这个问题，研究者最好使用阿巴迪和因本斯提出的方法对估计结果进行偏差校正。\n",
    "\n",
    "对 `age`、`race` 和 `sibling` 这三个变量实施偏差校正后的 1 对 4 匹配估计结果如下："
   ]
  },
  {
   "cell_type": "code",
   "execution_count": 10,
   "id": "8328befb",
   "metadata": {},
   "outputs": [
    {
     "name": "stdout",
     "output_type": "stream",
     "text": [
      "\n",
      "Treatment-effects estimation                   Number of obs      =      4,137\n",
      "Estimator      : nearest-neighbor matching     Matches: requested =          4\n",
      "Outcome model  : matching                                     min =          4\n",
      "Distance metric: Mahalanobis                                  max =         50\n",
      "------------------------------------------------------------------------------\n",
      "             |              AI robust\n",
      "       lninc | Coefficient  std. err.      z    P>|z|     [95% conf. interval]\n",
      "-------------+----------------------------------------------------------------\n",
      "ATE          |\n",
      "     college |\n",
      " (是 vs 否)  |   .7949957   .0392914    20.23   0.000      .717986    .8720054\n",
      "------------------------------------------------------------------------------\n"
     ]
    }
   ],
   "source": [
    "%%stata\n",
    "teffects nnmatch (lninc age race sibling) (college),ematch(hukou gender fmedu) nneighbor(4) vce(robust,nn(4)) biasadj(age race sibling)"
   ]
  },
  {
   "cell_type": "markdown",
   "id": "d8dd320a",
   "metadata": {},
   "source": [
    "分析结果显示，偏差校正后的估计值为 0.795，与偏差校正前的结果几乎没有差异，这说明在这个例子中，马氏匹配的偏差很小，可以忽略不计。\n",
    "\n",
    "最后，对上述命令使用选项 `atet`，即可得到偏差校正后得 ATT。分析结果显示，其估计值为 0.699，小于 ATE："
   ]
  },
  {
   "cell_type": "code",
   "execution_count": 11,
   "id": "e1f6bf36",
   "metadata": {},
   "outputs": [
    {
     "name": "stdout",
     "output_type": "stream",
     "text": [
      "\n",
      "Treatment-effects estimation                   Number of obs      =      4,137\n",
      "Estimator      : nearest-neighbor matching     Matches: requested =          4\n",
      "Outcome model  : matching                                     min =          4\n",
      "Distance metric: Mahalanobis                                  max =         50\n",
      "------------------------------------------------------------------------------\n",
      "             |              AI robust\n",
      "       lninc | Coefficient  std. err.      z    P>|z|     [95% conf. interval]\n",
      "-------------+----------------------------------------------------------------\n",
      "ATET         |\n",
      "     college |\n",
      " (是 vs 否)  |   .6993424   .0475923    14.69   0.000     .6060633    .7926215\n",
      "------------------------------------------------------------------------------\n"
     ]
    }
   ],
   "source": [
    "%%stata\n",
    "teffects nnmatch (lninc age race sibling) (college),ematch(hukou gender fmedu) nneighbor(4) vce(robust,nn(4)) biasadj(age race sibling) atet"
   ]
  },
  {
   "cell_type": "markdown",
   "id": "f58854d2",
   "metadata": {},
   "source": [
    "接下来，我们将演示粗化精确匹配。在使用这种方法之前，我们可以先用命令 `imb` 计算干预组和控制组在所有协变量上的不平衡性："
   ]
  },
  {
   "cell_type": "code",
   "execution_count": 12,
   "id": "eef5d0f9",
   "metadata": {},
   "outputs": [
    {
     "name": "stdout",
     "output_type": "stream",
     "text": [
      "\n",
      ". # 使用 imb 命令需要下载 cem 程序包，\n",
      "Unknown #command\n",
      ". ssc install cem,replace\n",
      "checking cem consistency and verifying not already installed...\n",
      "all files already exist and are up to date.\n",
      "\n",
      ". imb hukou age gender race sibling fmedu,treatment(college)\n",
      "\n",
      "Multivariate L1 distance: .42932057\n",
      "\n",
      "Univariate imbalance:\n",
      "\n",
      "              L1     mean      min      25%      50%      75%      max\n",
      "  hukou   .11753   .11753        0        0        0        0        0\n",
      "    age   .32978  -6.5436        0       -6       -9       -9        0\n",
      " gender   .04055  -.04055        0        0        0        0        0\n",
      "   race   .01072  -.01072        0        0        0        0        0\n",
      "sibling   .13284   .13284        0        0        0        0        0\n",
      "  fmedu   .22349   .01915        0        0        1       -1        0\n",
      "\n",
      ". \n"
     ]
    }
   ],
   "source": [
    "%%stata\n",
    "# 使用 imb 命令需要下载 cem 程序包，\n",
    "ssc install cem,replace\n",
    "imb hukou age gender race sibling fmedu,treatment(college)"
   ]
  },
  {
   "cell_type": "markdown",
   "id": "674d6519",
   "metadata": {},
   "source": [
    "分析结果显示，干预组和控制组在所有 6 个协变量上的总体不平衡指数 $L_1$ 为0.429 。此外，Stata 还汇报了干预组和控制组在每个协变量上的不平衡指数以及两组人在每个协变量的均值、最小值、25%分位数、50%分位数、75%分位数和最大值上的差异。\n",
    "\n",
    "一般来说，在比较数据不平衡程度的时候，总体不平衡指数最重要，因此，接下来我们主要根据这个指标来评估匹配效果。\n",
    "\n",
    "## 粗化精确匹配\n",
    "\n",
    "现在，我们尝试对数据进行粗化精确匹配。\n",
    "\n",
    "首先，我们以30、35、40、45和50为分割点，将年龄粗化为一个 6 分类变量；而其他变量则使用软件默认的方式进行粗化。\n",
    "\n",
    "需要注意的是，fmedu 有 3 个取值：初中及以下、高中及以上和数据缺失。考虑到这 3 个类别不宜合并，因此，我们在其变量名后的括号中使用 `#0` 表示不对该变量进行粗化。\n",
    "\n",
    "采用上述设置的命令和结果如下："
   ]
  },
  {
   "cell_type": "code",
   "execution_count": 22,
   "id": "55cb00a7",
   "metadata": {},
   "outputs": [
    {
     "name": "stdout",
     "output_type": "stream",
     "text": [
      "\n",
      ". local cut = \"#0\"\n",
      "\n",
      ". cem hukou age(30 35 40 45 50) gender race sibling fmedu (`cut'),treatment(col\n",
      "> lege)\n"
     ]
    },
    {
     "name": "stdout",
     "output_type": "stream",
     "text": [
      "\n",
      "Matching Summary:\n",
      "-----------------\n",
      "Number of strata: 206\n",
      "Number of matched strata: 133\n",
      "\n",
      "              0     1\n",
      "      All  2494  1643\n",
      "  Matched  2409  1583\n",
      "Unmatched    85    60\n",
      "\n",
      "\n",
      "Multivariate L1 distance: .20630897\n",
      "\n",
      "Univariate imbalance:\n",
      "\n",
      "               L1      mean       min       25%       50%       75%       max\n",
      "  hukou   8.3e-16   1.1e-16         0         0         0         0         0\n",
      "    age    .07527    -.1677         0         0         1         0         0\n",
      " gender   1.4e-15   6.7e-16         0         0         0         0         0\n",
      "   race   9.0e-16   1.8e-15         0         0         0         0         0\n",
      "sibling   2.4e-15  -1.9e-16         0         0         0         0         0\n",
      "  fmedu   3.7e-16   2.8e-15         0         0         0         0         0\n",
      "\n",
      ". \n"
     ]
    }
   ],
   "source": [
    "%%stata\n",
    "local cut = \"#0\"\n",
    "cem hukou age(30 35 40 45 50) gender race sibling fmedu (`cut'),treatment(college)"
   ]
  },
  {
   "cell_type": "markdown",
   "id": "8f737a24",
   "metadata": {},
   "source": [
    "输出结果显示，按照上述方法进行粗化精确匹配之后，大多数干预组个案和控制组个案找到了与之精确匹配的对象，匹配失败的个案之后 145 个。其中干预组个案60个，控制组个案85个。\n",
    "\n",
    "匹配之后，干预组和控制组在所有6个协变量上的总体不平衡指数下降到了 0.206，且单个协变量的不平衡指数都非常接近 0。\n",
    "\n",
    "这说明与匹配之前相比，匹配后的样本在平衡性上有很大的提升。\n",
    "\n",
    "以上所示的命令将 `age` 粗化为一个等间距的 6 分类变量。此外，我们也可以根据分位数将 `age` 粗化为等规模的 6 分类变量。具体命令和结果如下："
   ]
  },
  {
   "cell_type": "code",
   "execution_count": 23,
   "id": "498308e6",
   "metadata": {},
   "outputs": [
    {
     "name": "stdout",
     "output_type": "stream",
     "text": [
      "(using the scott break method for imbalance)\n",
      "\n",
      "Matching Summary:\n",
      "-----------------\n",
      "Number of strata: 179\n",
      "Number of matched strata: 118\n",
      "\n",
      "              0     1\n",
      "      All  2494  1643\n",
      "  Matched  2421  1579\n",
      "Unmatched    73    64\n",
      "\n",
      "\n",
      "Multivariate L1 distance: .22223609\n",
      "\n",
      "Univariate imbalance:\n",
      "\n",
      "              L1     mean      min      25%      50%      75%      max\n",
      "  hukou  5.3e-15  4.6e-15        0        0        0        0        0\n",
      "    age   .08636  -.24076        0        0        0        0        0\n",
      " gender  6.0e-15  7.2e-15        0        0        0        0        0\n",
      "   race  1.2e-15  2.1e-15        0        0        0        0        0\n",
      "sibling  4.1e-15  1.7e-15        0        0        0        0        0\n",
      "  fmedu  7.4e-15  5.3e-15        0        0        0        0        0\n"
     ]
    }
   ],
   "source": [
    "%%stata\n",
    "cem hukou age(#6) gender race sibling fmedu (#0),treatment(college)"
   ]
  },
  {
   "cell_type": "markdown",
   "id": "c3e65538",
   "metadata": {},
   "source": [
    "分析结果显示，通过上述方法保留的匹配样本略多于前一种方法，但平衡性指数却比之前高。所以综合来看，匹配效果与之前相当。\n",
    "\n",
    "最后，我们演示根据 `cem` 的自动粗化算法得到的匹配结果："
   ]
  },
  {
   "cell_type": "code",
   "execution_count": 24,
   "id": "e2310b6e",
   "metadata": {},
   "outputs": [
    {
     "name": "stdout",
     "output_type": "stream",
     "text": [
      "(using the scott break method for imbalance)\n",
      "\n",
      "Matching Summary:\n",
      "-----------------\n",
      "Number of strata: 369\n",
      "Number of matched strata: 214\n",
      "\n",
      "              0     1\n",
      "      All  2494  1643\n",
      "  Matched  2330  1523\n",
      "Unmatched   164   120\n",
      "\n",
      "\n",
      "Multivariate L1 distance: .09076546\n",
      "\n",
      "Univariate imbalance:\n",
      "\n",
      "               L1      mean       min       25%       50%       75%       max\n",
      "  hukou   1.1e-15  -6.7e-16         0         0         0         0         0\n",
      "    age    .02518   -.02531         0         0         0         0         0\n",
      " gender   1.8e-15  -2.3e-15         0         0         0         0         0\n",
      "   race   8.7e-18         0         0         0         0         0         0\n",
      "sibling   1.3e-15  -3.1e-16         0         0         0         0         0\n",
      "  fmedu   1.6e-15   1.2e-15         0         0         0         0         0\n"
     ]
    }
   ],
   "source": [
    "%%stata\n",
    "cem hukou age gender race sibling fmedu (#0),treatment(college)"
   ]
  },
  {
   "cell_type": "markdown",
   "id": "1860c964",
   "metadata": {},
   "source": [
    "可以发现，使用这种方法损失的样本量很多，但不平衡指数却比之前两种方法有大幅下降。\n",
    "\n",
    "这体现了在粗化精确匹配过程中经常出现的一个现象，即排除在外的极端样本越多，匹配样本的平衡性通常就越能够得到保证。考虑到第三章方法的平衡性指数最小，且样本损失依然在可接受的范围内，我们接下来将用该方法生成的权重 `cem_weights` 进行后续分析\n",
    "\n",
    "## 使用权重进行回归分析\n",
    "\n",
    "首先，我们可以使用该权重进行加权后的一元线性回归："
   ]
  },
  {
   "cell_type": "code",
   "execution_count": 25,
   "id": "a96825c9",
   "metadata": {},
   "outputs": [
    {
     "name": "stdout",
     "output_type": "stream",
     "text": [
      "\n",
      "      Source |       SS           df       MS      Number of obs   =     3,852\n",
      "-------------+----------------------------------   F(1, 3850)      =    333.41\n",
      "       Model |  450.866614         1  450.866614   Prob > F        =    0.0000\n",
      "    Residual |  5207.69062     3,850  1.35264691   R-squared       =    0.0797\n",
      "-------------+----------------------------------   Adj R-squared   =    0.0797\n",
      "       Total |  5658.55723     3,851  1.46937347   Root MSE        =    1.1629\n",
      "\n",
      "------------------------------------------------------------------------------\n",
      "       lninc | Coefficient  Std. err.      t    P>|t|     [95% conf. interval]\n",
      "-------------+----------------------------------------------------------------\n",
      "     college |   .6996738   .0383184    18.26   0.000     .6245475    .7748001\n",
      "       _cons |    9.47577   .0240912   393.33   0.000     9.428537    9.523003\n",
      "------------------------------------------------------------------------------\n"
     ]
    }
   ],
   "source": [
    "%%stata\n",
    "reg lninc college [iw=cem_weights]"
   ]
  },
  {
   "cell_type": "markdown",
   "id": "e9fa3e7a",
   "metadata": {},
   "source": [
    "分析结果显示，通过这种方法得到的 `college` 的回归系数为 0.700，或者说 ATT（干预组的平均干预效应）为 0.700.这与之前偏差校正以后得到的 1 对 4 马氏匹配的估计结果非常接近。\n",
    "\n",
    "接下来，我们可以在回归方程中纳入原始的协变量，以进一步消除匹配样本在这些变量上的不平衡性。\n",
    "\n",
    "分析结果显示，纳入更多控制变量以后，`college` 的回归系数只发生了非常细微的变化。这主要是因为，粗化精确匹配已经在很大程度上消除了干预组和控制组在原始协变量上的不平衡性（匹配后 $L_1$ 从 0.429 下降到了 0.091），此时，在回归方程中纳入更多控制变量的意义已经不大。\n",
    "\n",
    "不过在统计分析时控制这些协变量是一种更加稳健的做法，因此，这里建议研究者在回归分析时始终对原始协变量进行统计控制。"
   ]
  },
  {
   "cell_type": "code",
   "execution_count": 26,
   "id": "d32b8774",
   "metadata": {},
   "outputs": [
    {
     "name": "stdout",
     "output_type": "stream",
     "text": [
      "\n",
      "      Source |       SS           df       MS      Number of obs   =     3,853\n",
      "-------------+----------------------------------   F(8, 3844)      =     59.25\n",
      "       Model |  621.146148         8  77.6432685   Prob > F        =    0.0000\n",
      "    Residual |  5037.41109     3,844  1.31046074   R-squared       =    0.1098\n",
      "-------------+----------------------------------   Adj R-squared   =    0.1079\n",
      "       Total |  5658.55723     3,852  1.46899201   Root MSE        =    1.1448\n",
      "\n",
      "------------------------------------------------------------------------------\n",
      "       lninc | Coefficient  Std. err.      t    P>|t|     [95% conf. interval]\n",
      "-------------+----------------------------------------------------------------\n",
      "     college |    .699765   .0377211    18.55   0.000     .6258097    .7737203\n",
      "       hukou |   .1384669   .0417004     3.32   0.001     .0567099    .2202238\n",
      "         age |   .0036032    .002706     1.33   0.183    -.0017021    .0089086\n",
      "      gender |   .3631285   .0378722     9.59   0.000     .2888771    .4373799\n",
      "        race |   .1562387   .1279194     1.22   0.222    -.0945576    .4070351\n",
      "     sibling |   .1464629   .0537444     2.73   0.006     .0410927    .2518332\n",
      "             |\n",
      "       fmedu |\n",
      "         是  |   .0025106    .043347     0.06   0.954    -.0824748     .087496\n",
      "       缺失  |   .0241171   .0565652     0.43   0.670    -.0867836    .1350179\n",
      "             |\n",
      "       _cons |   8.892506    .162912    54.58   0.000     8.573104    9.211908\n",
      "------------------------------------------------------------------------------\n"
     ]
    }
   ],
   "source": [
    "%%stata\n",
    "reg lninc college hukou age gender race sibling i.fmedu [iw=cem_weights]"
   ]
  }
 ],
 "metadata": {
  "kernelspec": {
   "display_name": "Python 3",
   "language": "python",
   "name": "python3"
  },
  "language_info": {
   "codemirror_mode": {
    "name": "ipython",
    "version": 3
   },
   "file_extension": ".py",
   "mimetype": "text/x-python",
   "name": "python",
   "nbconvert_exporter": "python",
   "pygments_lexer": "ipython3",
   "version": "3.12.9"
  }
 },
 "nbformat": 4,
 "nbformat_minor": 5
}

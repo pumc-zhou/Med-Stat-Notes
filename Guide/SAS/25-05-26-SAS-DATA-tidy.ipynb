{
 "cells": [
  {
   "cell_type": "markdown",
   "id": "5796878a",
   "metadata": {},
   "source": [
    "---\n",
    "title: \"06-SAS 数据集的整理\"\n",
    "subtitle: \"SAS 数据集的基本整理与变换\"\n",
    "author: \"Simon Zhou\"\n",
    "date: \"2025-05-26\"\n",
    "format: \n",
    "    html:\n",
    "        code-fold: false\n",
    "        fig_caption: true\n",
    "        number-sections: true\n",
    "        toc: true\n",
    "        toc-depth: 2\n",
    "---"
   ]
  },
  {
   "cell_type": "code",
   "execution_count": null,
   "id": "8a3fd140",
   "metadata": {
    "vscode": {
     "languageId": "plaintext"
    }
   },
   "outputs": [],
   "source": [
    "%load_ext saspy.sas_magic"
   ]
  },
  {
   "cell_type": "markdown",
   "id": "c40f1e08",
   "metadata": {},
   "source": [
    "## 浏览与修改数据集\n",
    "\n",
    "使用软件窗口的 Table editor/browse(edit) 菜单选项进行数据集的浏览与修改。\n",
    "\n",
    "## 产生新变量\n",
    "\n"
   ]
  }
 ],
 "metadata": {
  "language_info": {
   "name": "python"
  }
 },
 "nbformat": 4,
 "nbformat_minor": 5
}

{
 "cells": [
  {
   "cell_type": "markdown",
   "id": "09656dc3",
   "metadata": {},
   "source": [
    "---\n",
    "title: \"19-SAS Poisson 回归与负二项回归\"\n",
    "author: \"Simon Zhou\"\n",
    "date: \"2025-06-10\"\n",
    "date-modified: \"2025-06-10\"\n",
    "format: \n",
    "    html:\n",
    "        code-fold: true\n",
    "        code-line-numbers: true\n",
    "        code-highlight: true\n",
    "        fig_caption: true\n",
    "        number-sections: true\n",
    "        toc: true\n",
    "        toc-depth: 3\n",
    "---"
   ]
  },
  {
   "cell_type": "code",
   "execution_count": null,
   "id": "9af80c70",
   "metadata": {
    "vscode": {
     "languageId": "plaintext"
    }
   },
   "outputs": [],
   "source": [
    "%load_ext saspy.sas_magic"
   ]
  },
  {
   "cell_type": "markdown",
   "id": "6f6f10df",
   "metadata": {},
   "source": [
    "# 什么是 Poisson 回归\n",
    "\n",
    "Possion分布是一种描述和分析稀有事件发生次数的概率分析方法。泊松分布是偏态分布，线性回归不能解决相关问题，一般推荐使用Poisson回归(Poisson Regression)。Poisson回归主要用于分析服从Poisson分布的因变量与影响其取值的自变量之间变化关系的一种模型，即单位时间(或空间)内某稀有事件发生数的影响因素分析，如某罕见疾病的发病率的影响因素分析。\n",
    "\n",
    "医学研究中有不少现象可使用泊松回归进行分析，对于以人群为基础的稀有疾病如肿瘤或卫生事件等资料,宜用 Poisson 回归分析，比如对浅表性胃炎病人长期随访一段时间后的胃癌发生数。\n",
    "\n"
   ]
  }
 ],
 "metadata": {
  "language_info": {
   "name": "python"
  }
 },
 "nbformat": 4,
 "nbformat_minor": 5
}

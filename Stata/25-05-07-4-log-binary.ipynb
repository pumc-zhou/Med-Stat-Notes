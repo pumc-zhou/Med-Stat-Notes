{
 "cells": [
  {
   "cell_type": "markdown",
   "id": "01c10f76",
   "metadata": {},
   "source": [
    "---\n",
    "title: \"13-二分类Logistic回归\"\n",
    "subtitle: \"Logistic regression for binary outcomes\"\n",
    "author: \"Simon Zhou\"\n",
    "date: \"2025-05-07\"\n",
    "format: \n",
    "    html:\n",
    "        code-fold: false\n",
    "        fig_caption: true\n",
    "        number-sections: true\n",
    "        toc: true\n",
    "        toc-depth: 2\n",
    "---"
   ]
  },
  {
   "cell_type": "code",
   "execution_count": 1,
   "id": "18d5d6c9",
   "metadata": {},
   "outputs": [],
   "source": [
    "import stata_setup\n",
    "stata_setup.config('C:/Program Files/Stata18', 'mp', splash=False)"
   ]
  },
  {
   "cell_type": "markdown",
   "id": "f864bca0",
   "metadata": {},
   "source": [
    "## 什么时候该用 Logistic 回归\n",
    "\n",
    "当outcome发生率 >15% 时logistic regression得出的OR值会overestimate实际的RR值\n",
    "\n",
    "- 传统的 Logistic Regression（得出OR值）\n",
    "- Mantel-Haenszel（得出RR值）\n",
    "- Poisson Regression with robust variance estimate\n",
    "\n",
    "### 新方法\n",
    "\n",
    "- 1998 Zhang and Yu *What's the Relative Risk?*\n",
    "\n",
    "$$RR=\\frac{OR}{(1-P_0)+(P_0\\times OR)}$$\n",
    "\n",
    "- 2003 McNutt *Outcomes Estimating the Relative Risk in Cohort Studies and Clinical Trials of Common*\n",
    "\n",
    "- **金标准：Log Binomial**\n",
    "\n",
    "## 二分类 Logistic 模型的假设\n",
    "\n",
    "1. 假设1:因变量(结局)是二分类变量。\n",
    "2. 假设2:有至少1个自变量，自变量可以是连续变量，也可以是分类变量，\n",
    "3. 假设3:每条观测间相互独立。分类变量(包括因变量和自变量)的分类必须全面且每一个分类间互斥\n",
    "4. 假设4:最小样本量要求为自变量数目的15倍，但一些研究者认为样本量应达到自变量数目的50倍\n",
    "5. 假设5:连续的自变量与因变量的logit转换值之间存在线性关系。\n",
    "6. 假设6:自变量之间无多重共线性，\n",
    "7. 假设7:没有明显的离群点、杠杆点和强影响点。\n",
    "\n",
    "## 做 Logistic 回归的要求\n",
    "1. Y是二分类变量\n",
    "2. Y的发生率 <15%"
   ]
  },
  {
   "cell_type": "markdown",
   "id": "3f18c416",
   "metadata": {},
   "source": [
    "## 导入数据\n",
    "\n",
    "变量 `low` 是我们的结局事件，我们想看什么因素和孩子的 `low birthweight` 相关"
   ]
  },
  {
   "cell_type": "code",
   "execution_count": null,
   "id": "b32219ae",
   "metadata": {},
   "outputs": [
    {
     "name": "stdout",
     "output_type": "stream",
     "text": [
      "(Hosmer & Lemeshow data)\n"
     ]
    }
   ],
   "source": [
    "%%stata\n",
    "webuse lbw,clear"
   ]
  },
  {
   "cell_type": "code",
   "execution_count": 3,
   "id": "3bc54fc9",
   "metadata": {},
   "outputs": [
    {
     "name": "stdout",
     "output_type": "stream",
     "text": [
      "\n",
      "Birthweight |\n",
      "     <2500g |      Freq.     Percent        Cum.\n",
      "------------+-----------------------------------\n",
      "          0 |        130       68.78       68.78\n",
      "          1 |         59       31.22      100.00\n",
      "------------+-----------------------------------\n",
      "      Total |        189      100.00\n"
     ]
    }
   ],
   "source": [
    "%%stata\n",
    "tab low"
   ]
  },
  {
   "cell_type": "markdown",
   "id": "e846f470",
   "metadata": {},
   "source": [
    "**Disclaimer:** 本节的数据集中，结局事件发生率远远大于15%，应使用Log binomial模型进行分析。这里使用Logistic regression进行分析仅仅为了讲\n",
    "解如何使用Stata进行操作、以及为下节的Log-binomial进行铺垫。"
   ]
  },
  {
   "cell_type": "markdown",
   "id": "1a0f8b36",
   "metadata": {},
   "source": [
    "## Logistic regression\n",
    "\n",
    "语法：\n",
    "\n",
    "```stata\n",
    "logistic y x1 x2 x3 ...\n",
    "```\n",
    "\n",
    "### Model 1: $low=\\beta_0+\\beta_1 age$"
   ]
  },
  {
   "cell_type": "code",
   "execution_count": 4,
   "id": "cf029318",
   "metadata": {},
   "outputs": [
    {
     "name": "stdout",
     "output_type": "stream",
     "text": [
      "\n",
      "Logistic regression                                     Number of obs =    189\n",
      "                                                        LR chi2(1)    =   2.76\n",
      "                                                        Prob > chi2   = 0.0966\n",
      "Log likelihood = -115.95598                             Pseudo R2     = 0.0118\n",
      "\n",
      "------------------------------------------------------------------------------\n",
      "         low | Odds ratio   Std. err.      z    P>|z|     [95% conf. interval]\n",
      "-------------+----------------------------------------------------------------\n",
      "         age |   .9501333   .0299423    -1.62   0.105     .8932232    1.010669\n",
      "       _cons |      1.469   1.075492     0.53   0.599     .3498129    6.168901\n",
      "------------------------------------------------------------------------------\n",
      "Note: _cons estimates baseline odds.\n"
     ]
    }
   ],
   "source": [
    "%%stata\n",
    "logistic low age"
   ]
  },
  {
   "cell_type": "markdown",
   "id": "2e2d4e5e",
   "metadata": {},
   "source": [
    "$\\beta_1$：母亲的年龄每增加1岁，孩子低体重的风险是之前的0.95倍(95%CI:0.89,1.01)\n",
    "\n",
    "### Model 2: $low=\\beta_0+\\beta_1 age+\\beta_2 smoke$"
   ]
  },
  {
   "cell_type": "code",
   "execution_count": 5,
   "id": "4b5634e5",
   "metadata": {},
   "outputs": [
    {
     "name": "stdout",
     "output_type": "stream",
     "text": [
      "\n",
      "Logistic regression                                     Number of obs =    189\n",
      "                                                        LR chi2(2)    =   7.40\n",
      "                                                        Prob > chi2   = 0.0248\n",
      "Log likelihood = -113.63815                             Pseudo R2     = 0.0315\n",
      "\n",
      "------------------------------------------------------------------------------\n",
      "         low | Odds ratio   Std. err.      z    P>|z|     [95% conf. interval]\n",
      "-------------+----------------------------------------------------------------\n",
      "         age |   .9514394   .0304194    -1.56   0.119     .8936482    1.012968\n",
      "             |\n",
      "       smoke |\n",
      "     Smoker  |   1.997405    .642777     2.15   0.032     1.063027    3.753081\n",
      "       _cons |   1.062798   .8048781     0.08   0.936     .2408901    4.689025\n",
      "------------------------------------------------------------------------------\n",
      "Note: _cons estimates baseline odds.\n"
     ]
    }
   ],
   "source": [
    "%%stata\n",
    "logistic low age i.smoke"
   ]
  },
  {
   "cell_type": "markdown",
   "id": "673bda93",
   "metadata": {},
   "source": [
    "$\\beta_1$：控制了母亲的吸烟状况以后，母亲的年龄每增加1岁孩子低体重的风险是之前的0.95倍(95% CI:0.89,1.01)\n",
    "\n",
    "### Model 2: $low=\\beta_0+\\beta_1 age+\\beta_2 smoke+\\beta_3 race$"
   ]
  },
  {
   "cell_type": "code",
   "execution_count": 6,
   "id": "3729fdb2",
   "metadata": {},
   "outputs": [
    {
     "name": "stdout",
     "output_type": "stream",
     "text": [
      "\n",
      "Logistic regression                                     Number of obs =    189\n",
      "                                                        LR chi2(4)    =  15.81\n",
      "                                                        Prob > chi2   = 0.0033\n",
      "Log likelihood = -109.4311                              Pseudo R2     = 0.0674\n",
      "\n",
      "------------------------------------------------------------------------------\n",
      "         low | Odds ratio   Std. err.      z    P>|z|     [95% conf. interval]\n",
      "-------------+----------------------------------------------------------------\n",
      "         age |   .9657186   .0322573    -1.04   0.296     .9045206    1.031057\n",
      "             |\n",
      "       smoke |\n",
      "     Smoker  |    3.00582   1.118001     2.96   0.003     1.449982    6.231081\n",
      "             |\n",
      "        race |\n",
      "      Black  |   2.749483   1.356659     2.05   0.040     1.045318    7.231924\n",
      "      Other  |   2.876948   1.167921     2.60   0.009     1.298314    6.375062\n",
      "             |\n",
      "       _cons |    .365111   .3146026    -1.17   0.242     .0674491    1.976395\n",
      "------------------------------------------------------------------------------\n",
      "Note: _cons estimates baseline odds.\n"
     ]
    }
   ],
   "source": [
    "%%stata\n",
    "logistic low age i.smoke i.race"
   ]
  },
  {
   "cell_type": "markdown",
   "id": "2b2fd8af",
   "metadata": {},
   "source": [
    "$\\beta_1$：控制了母亲的吸烟状况和种族以后，母亲的年龄每增加1岁孩子低体重的风险是之前的0.97倍(95%CI:0.90,1.03)"
   ]
  }
 ],
 "metadata": {
  "kernelspec": {
   "display_name": "Python 3",
   "language": "python",
   "name": "python3"
  },
  "language_info": {
   "codemirror_mode": {
    "name": "ipython",
    "version": 3
   },
   "file_extension": ".py",
   "mimetype": "text/x-python",
   "name": "python",
   "nbconvert_exporter": "python",
   "pygments_lexer": "ipython3",
   "version": "3.12.9"
  }
 },
 "nbformat": 4,
 "nbformat_minor": 5
}

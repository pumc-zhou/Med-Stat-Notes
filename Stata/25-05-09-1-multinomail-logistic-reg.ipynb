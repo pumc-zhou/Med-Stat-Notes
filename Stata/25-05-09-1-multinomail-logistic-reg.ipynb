{
 "cells": [
  {
   "cell_type": "markdown",
   "id": "885e6b59",
   "metadata": {},
   "source": [
    "---\n",
    "title: \"19-无序多分类Logistic回归\"\n",
    "subtitle: \"Multinomial Logistic Regression\"\n",
    "author: \"Simon Zhou\"\n",
    "date: \"2025-05-09\"\n",
    "format: \n",
    "    html:\n",
    "        code-fold: false\n",
    "        fig_caption: true\n",
    "        number-sections: true\n",
    "        toc: true\n",
    "        toc-depth: 2\n",
    "---"
   ]
  },
  {
   "cell_type": "code",
   "execution_count": 1,
   "id": "f9cf8678",
   "metadata": {},
   "outputs": [],
   "source": [
    "import stata_setup\n",
    "stata_setup.config('C:/Program Files/Stata18', 'mp', splash=False)"
   ]
  },
  {
   "cell_type": "markdown",
   "id": "f339978e",
   "metadata": {},
   "source": [
    "## 无序多分类Logistic回归\n",
    "\n",
    "Proportional odds 假定满足"
   ]
  },
  {
   "cell_type": "code",
   "execution_count": 2,
   "id": "9c338ebd",
   "metadata": {},
   "outputs": [
    {
     "name": "stdout",
     "output_type": "stream",
     "text": [
      "(Automobile models)\n"
     ]
    }
   ],
   "source": [
    "%%stata\n",
    "webuse fullauto.dta,clear"
   ]
  },
  {
   "cell_type": "code",
   "execution_count": 3,
   "id": "d6e2f7ba",
   "metadata": {},
   "outputs": [
    {
     "name": "stdout",
     "output_type": "stream",
     "text": [
      "\n",
      "Iteration 0:  Log likelihood = -89.895098  \n",
      "Iteration 1:  Log likelihood = -85.951765  \n",
      "Iteration 2:  Log likelihood = -85.908227  \n",
      "Iteration 3:  Log likelihood = -85.908161  \n",
      "Iteration 4:  Log likelihood = -85.908161  \n",
      "\n",
      "Ordered logistic regression                             Number of obs =     66\n",
      "                                                        LR chi2(1)    =   7.97\n",
      "                                                        Prob > chi2   = 0.0047\n",
      "Log likelihood = -85.908161                             Pseudo R2     = 0.0444\n",
      "\n",
      "------------------------------------------------------------------------------\n",
      "       rep77 | Odds ratio   Std. err.      z    P>|z|     [95% conf. interval]\n",
      "-------------+----------------------------------------------------------------\n",
      "     foreign |   4.288246   2.276609     2.74   0.006      1.51489    12.13888\n",
      "-------------+----------------------------------------------------------------\n",
      "       /cut1 |  -2.765562   .5988208                     -3.939229   -1.591895\n",
      "       /cut2 |  -.9963603   .3217706                     -1.627019   -.3657016\n",
      "       /cut3 |   .9426153   .3136398                      .3278925    1.557338\n",
      "       /cut4 |   3.123351   .5423257                      2.060412     4.18629\n",
      "------------------------------------------------------------------------------\n",
      "Note: Estimates are transformed only in the first equation to odds ratios.\n"
     ]
    }
   ],
   "source": [
    "%%stata\n",
    "ologit rep77 foreign,or"
   ]
  },
  {
   "cell_type": "markdown",
   "id": "2c292d8b",
   "metadata": {},
   "source": [
    "进口车(Foreign=1)有着更高车辆维修状况等级的odds是国产车(Foreign=0)的4.29倍(95% CI: 1.51,12.13)"
   ]
  },
  {
   "cell_type": "markdown",
   "id": "05fed321",
   "metadata": {},
   "source": [
    "Proportional odds 假定不满足\n",
    "\n",
    "使用 Generalized Ordinal Logistic Regression\n",
    "\n",
    "需要安装 `gologit2` 命令"
   ]
  },
  {
   "cell_type": "code",
   "execution_count": 4,
   "id": "04b3e059",
   "metadata": {},
   "outputs": [
    {
     "name": "stdout",
     "output_type": "stream",
     "text": [
      "checking gologit2 consistency and verifying not already installed...\n",
      "installing into C:\\Users\\asus\\ado\\plus\\...\n",
      "installation complete.\n"
     ]
    }
   ],
   "source": [
    "%%stata\n",
    "ssc install gologit2"
   ]
  },
  {
   "cell_type": "markdown",
   "id": "21f3471c",
   "metadata": {},
   "source": [
    "## gologit2 命令\n",
    "\n",
    "### 满足Proportional Odds假定\n",
    "\n",
    "```stata\n",
    "gologit2 y x x₂ x.., pl or\n",
    "```\n",
    "\n",
    "这个command和 `ologit command` 给出的结果相同\n",
    "\n",
    "### 不满足Proportional0dds假定\n",
    "\n",
    "```stata\n",
    "gologit2 y x x₂ x. ., npl or\n",
    "```\n",
    "\n",
    "> `pl` & `npl` 分别表示满足 parallel \n",
    "\n",
    "### 检验是否满足Proportional Odds假定\n",
    "\n",
    "Likelihood-ratio test:`lrtest`"
   ]
  },
  {
   "cell_type": "code",
   "execution_count": 5,
   "id": "f94bdeac",
   "metadata": {},
   "outputs": [
    {
     "name": "stdout",
     "output_type": "stream",
     "text": [
      "\n",
      "Generalized Ordered Logit Estimates                     Number of obs =     66\n",
      "                                                        LR chi2(1)    =   7.97\n",
      "                                                        Prob > chi2   = 0.0047\n",
      "Log likelihood = -85.908161                             Pseudo R2     = 0.0444\n",
      "\n",
      " ( 1)  [Poor]foreign - [Fair]foreign = 0\n",
      " ( 2)  [Fair]foreign - [Average]foreign = 0\n",
      " ( 3)  [Average]foreign - [Good]foreign = 0\n",
      "------------------------------------------------------------------------------\n",
      "       rep77 | Odds ratio   Std. err.      z    P>|z|     [95% conf. interval]\n",
      "-------------+----------------------------------------------------------------\n",
      "Poor         |\n",
      "     foreign |   4.288247   2.276609     2.74   0.006      1.51489    12.13888\n",
      "       _cons |   15.88797   9.514049     4.62   0.000     4.913051    51.37901\n",
      "-------------+----------------------------------------------------------------\n",
      "Fair         |\n",
      "     foreign |   4.288247   2.276609     2.74   0.006      1.51489    12.13888\n",
      "       _cons |   2.708406   .8714855     3.10   0.002     1.441525    5.088683\n",
      "-------------+----------------------------------------------------------------\n",
      "Average      |\n",
      "     foreign |   4.288247   2.276609     2.74   0.006      1.51489    12.13888\n",
      "       _cons |   .3896075   .1221964    -3.01   0.003     .2106962    .7204404\n",
      "-------------+----------------------------------------------------------------\n",
      "Good         |\n",
      "     foreign |   4.288247   2.276609     2.74   0.006      1.51489    12.13888\n",
      "       _cons |   .0440095   .0238675    -5.76   0.000     .0152026    .1274015\n",
      "------------------------------------------------------------------------------\n",
      "Note: _cons estimates baseline odds.\n"
     ]
    }
   ],
   "source": [
    "%%stata\n",
    "gologit2 rep77 foreign,pl or"
   ]
  },
  {
   "cell_type": "code",
   "execution_count": 6,
   "id": "385f3c95",
   "metadata": {},
   "outputs": [
    {
     "name": "stdout",
     "output_type": "stream",
     "text": [
      "\n",
      "Generalized Ordered Logit Estimates                     Number of obs =     66\n",
      "                                                        LR chi2(4)    =  15.24\n",
      "                                                        Prob > chi2   = 0.0042\n",
      "Log likelihood = -82.27372                              Pseudo R2     = 0.0848\n",
      "\n",
      "------------------------------------------------------------------------------\n",
      "       rep77 | Odds ratio   Std. err.      z    P>|z|     [95% conf. interval]\n",
      "-------------+----------------------------------------------------------------\n",
      "Poor         |\n",
      "     foreign |   .9300305   1.166495    -0.06   0.954     .0795928    10.86727\n",
      "       _cons |   21.50014   15.55202     4.24   0.000     5.208693    88.74704\n",
      "-------------+----------------------------------------------------------------\n",
      "Fair         |\n",
      "     foreign |   3.453614   2.818944     1.52   0.129     .6974251    17.10213\n",
      "       _cons |   2.750213   .9271033     3.00   0.003     1.420445    5.324862\n",
      "-------------+----------------------------------------------------------------\n",
      "Average      |\n",
      "     foreign |   3.281111   1.804947     2.16   0.031     1.116279    9.644262\n",
      "       _cons |   .4062893   .1336252    -2.74   0.006     .2132467    .7740847\n",
      "-------------+----------------------------------------------------------------\n",
      "Good         |\n",
      "     foreign |   3.94e+07   6.55e+10     0.01   0.992            0           .\n",
      "       _cons |   7.93e-09   .0000132    -0.01   0.991            0           .\n",
      "------------------------------------------------------------------------------\n",
      "Note: _cons estimates baseline odds.\n"
     ]
    }
   ],
   "source": [
    "%%stata\n",
    "gologit2 rep77 foreign,npl or"
   ]
  },
  {
   "cell_type": "markdown",
   "id": "2e766ebc",
   "metadata": {},
   "source": [
    "**当Proportional Odds假定不成立时**\n",
    "\n",
    "进口车(Foreign=1)和国产车(Foreign=0)比:\n",
    "\n",
    "- Odds(Excellent+Good+Average+Fair)/Odds(Poor)= 0.93\n",
    "- Odds(Excellent+Good+Average)/Odds(Fair+Poor)= 3.45\n",
    "- Odds(Excellent+Good)/Odds(Average+Fair+Poor)= 3.28\n",
    "- Odds(Excellent)/Odds(Good+Average+Fair+Poor)= 3.94*10^7"
   ]
  },
  {
   "cell_type": "markdown",
   "id": "3746f7e5",
   "metadata": {},
   "source": [
    "### 检查Proportional Odds假定是否成立\n",
    "\n",
    "$H_0$:Non-Proportional Odds 模型可以更好解释结局变量各个等级之间关系"
   ]
  },
  {
   "cell_type": "code",
   "execution_count": 7,
   "id": "72323ad9",
   "metadata": {},
   "outputs": [
    {
     "name": "stdout",
     "output_type": "stream",
     "text": [
      "\n",
      ". gologit2 rep77 foreign,pl or \n",
      "\n",
      "Generalized Ordered Logit Estimates                     Number of obs =     66\n",
      "                                                        LR chi2(1)    =   7.97\n",
      "                                                        Prob > chi2   = 0.0047\n",
      "Log likelihood = -85.908161                             Pseudo R2     = 0.0444\n",
      "\n",
      " ( 1)  [Poor]foreign - [Fair]foreign = 0\n",
      " ( 2)  [Fair]foreign - [Average]foreign = 0\n",
      " ( 3)  [Average]foreign - [Good]foreign = 0\n",
      "------------------------------------------------------------------------------\n",
      "       rep77 | Odds ratio   Std. err.      z    P>|z|     [95% conf. interval]\n",
      "-------------+----------------------------------------------------------------\n",
      "Poor         |\n",
      "     foreign |   4.288247   2.276609     2.74   0.006      1.51489    12.13888\n",
      "       _cons |   15.88797   9.514049     4.62   0.000     4.913051    51.37901\n",
      "-------------+----------------------------------------------------------------\n",
      "Fair         |\n",
      "     foreign |   4.288247   2.276609     2.74   0.006      1.51489    12.13888\n",
      "       _cons |   2.708406   .8714855     3.10   0.002     1.441525    5.088683\n",
      "-------------+----------------------------------------------------------------\n",
      "Average      |\n",
      "     foreign |   4.288247   2.276609     2.74   0.006      1.51489    12.13888\n",
      "       _cons |   .3896075   .1221964    -3.01   0.003     .2106962    .7204404\n",
      "-------------+----------------------------------------------------------------\n",
      "Good         |\n",
      "     foreign |   4.288247   2.276609     2.74   0.006      1.51489    12.13888\n",
      "       _cons |   .0440095   .0238675    -5.76   0.000     .0152026    .1274015\n",
      "------------------------------------------------------------------------------\n",
      "Note: _cons estimates baseline odds.\n",
      "\n",
      ". est store A\n",
      "\n",
      ". gologit2 rep77 foreign,npl or \n",
      "\n",
      "Generalized Ordered Logit Estimates                     Number of obs =     66\n",
      "                                                        LR chi2(4)    =  15.24\n",
      "                                                        Prob > chi2   = 0.0042\n",
      "Log likelihood = -82.27372                              Pseudo R2     = 0.0848\n",
      "\n",
      "------------------------------------------------------------------------------\n",
      "       rep77 | Odds ratio   Std. err.      z    P>|z|     [95% conf. interval]\n",
      "-------------+----------------------------------------------------------------\n",
      "Poor         |\n",
      "     foreign |   .9300305   1.166495    -0.06   0.954     .0795928    10.86727\n",
      "       _cons |   21.50014   15.55202     4.24   0.000     5.208693    88.74704\n",
      "-------------+----------------------------------------------------------------\n",
      "Fair         |\n",
      "     foreign |   3.453614   2.818944     1.52   0.129     .6974251    17.10213\n",
      "       _cons |   2.750213   .9271033     3.00   0.003     1.420445    5.324862\n",
      "-------------+----------------------------------------------------------------\n",
      "Average      |\n",
      "     foreign |   3.281111   1.804947     2.16   0.031     1.116279    9.644262\n",
      "       _cons |   .4062893   .1336252    -2.74   0.006     .2132467    .7740847\n",
      "-------------+----------------------------------------------------------------\n",
      "Good         |\n",
      "     foreign |   3.94e+07   6.55e+10     0.01   0.992            0           .\n",
      "       _cons |   7.93e-09   .0000132    -0.01   0.991            0           .\n",
      "------------------------------------------------------------------------------\n",
      "Note: _cons estimates baseline odds.\n",
      "\n",
      ". est store B\n",
      "\n",
      ". lrtest A B //Likelihood-ratio test\n",
      "\n",
      "Likelihood-ratio test\n",
      "Assumption: A nested within B\n",
      "\n",
      " LR chi2(3) =   7.27\n",
      "Prob > chi2 = 0.0638\n",
      "\n",
      ". \n"
     ]
    }
   ],
   "source": [
    "%%stata\n",
    "gologit2 rep77 foreign,pl or \n",
    "est store A\n",
    "gologit2 rep77 foreign,npl or \n",
    "est store B\n",
    "lrtest A B //Likelihood-ratio test"
   ]
  },
  {
   "cell_type": "markdown",
   "id": "d57a2391",
   "metadata": {},
   "source": [
    "根据 Likelihood-ratio test 得出的结果，$P=0.0638>0.05$，拒绝$H_0$: Non-Proportional 0dds并没有更好解释结局变量各个等级之间关系。"
   ]
  },
  {
   "cell_type": "markdown",
   "id": "67ad95b2",
   "metadata": {},
   "source": [
    "## 无序多分类 Logistic 回归\n",
    "\n",
    "- 把结局变量的某个分类作为reference，然后比较结局变量其他分类相对于reference的相对风险(Relative Risk)\n",
    "\n",
    "$$RR_j=Pr(cat=j)/Pr(reference\\ cat)$$\n",
    "$$log(RR_j)=\\beta_{0j}+\\beta_{1j}X_1+\\cdots +\\beta_{pj}X_p$$\n",
    "\n",
    "**notice**：`cat` 是 `category` 的缩写"
   ]
  },
  {
   "cell_type": "markdown",
   "id": "76f294c7",
   "metadata": {},
   "source": [
    "## 有序和无序多分类比较\n",
    "\n",
    "1. 有序多分类 Logistic 回归：\n",
    "   - $RR_j=Pr(cat>j)/Pr(cat\\leq j)$\n",
    "   - `ologit y x_1 x_2 x_3 ...,or`\n",
    "2. 无序多分类Logistic回归:\n",
    "   - $RR_j=Pr(cat=j)/Pr(reference\\ cat)$\n",
    "   - `mlogit y x_1 x_2x x_3...,rrr baseoutcome(j)`\n",
    "\n",
    "> `mlogit` 是 *multi logit* 的缩写\n",
    "\n",
    "> `baseoutcome(j)` 如果不指定， Stata 会自动选择"
   ]
  },
  {
   "cell_type": "code",
   "execution_count": 8,
   "id": "2381615f",
   "metadata": {},
   "outputs": [
    {
     "name": "stdout",
     "output_type": "stream",
     "text": [
      "\n",
      "Iteration 0:  Log likelihood = -89.895098  \n",
      "Iteration 1:  Log likelihood = -85.605381  \n",
      "Iteration 2:  Log likelihood = -82.670821  \n",
      "Iteration 3:  Log likelihood = -82.335383  \n",
      "Iteration 4:  Log likelihood =  -82.28077  \n",
      "Iteration 5:  Log likelihood = -82.274431  \n",
      "Iteration 6:  Log likelihood = -82.273851  \n",
      "Iteration 7:  Log likelihood = -82.273742  \n",
      "Iteration 8:  Log likelihood = -82.273725  \n",
      "Iteration 9:  Log likelihood =  -82.27372  \n",
      "\n",
      "Multinomial logistic regression                         Number of obs =     66\n",
      "                                                        LR chi2(4)    =  15.24\n",
      "                                                        Prob > chi2   = 0.0042\n",
      "Log likelihood = -82.27372                              Pseudo R2     = 0.0848\n",
      "\n",
      "------------------------------------------------------------------------------\n",
      "       rep77 |        RRR   Std. err.      z    P>|z|     [95% conf. interval]\n",
      "-------------+----------------------------------------------------------------\n",
      "Poor         |  (base outcome)\n",
      "-------------+----------------------------------------------------------------\n",
      "Fair         |\n",
      "     foreign |   .2000452   .3225721    -1.00   0.318     .0084834    4.717229\n",
      "       _cons |   5.000509   3.873398     2.08   0.038     1.095653    22.82209\n",
      "-------------+----------------------------------------------------------------\n",
      "Average      |\n",
      "     foreign |   .7001516   .9110327    -0.27   0.784      .054653    8.969536\n",
      "       _cons |   10.00009   7.416364     3.10   0.002     2.337371    42.78389\n",
      "-------------+----------------------------------------------------------------\n",
      "Good         |\n",
      "     foreign |   1.076972   1.412458     0.06   0.955     .0823847    14.07869\n",
      "       _cons |   6.500016   4.937183     2.46   0.014     1.466803    28.80429\n",
      "-------------+----------------------------------------------------------------\n",
      "Excellent    |\n",
      "     foreign |   1.32e+07   1.52e+10     0.01   0.989            0           .\n",
      "       _cons |   3.79e-07   .0004353    -0.01   0.990            0           .\n",
      "------------------------------------------------------------------------------\n",
      "Note: _cons estimates baseline relative risk for each outcome.\n"
     ]
    }
   ],
   "source": [
    "%%stata\n",
    "mlogit rep77 foreign,rrr baseoutcome(1)"
   ]
  },
  {
   "cell_type": "markdown",
   "id": "edba12fc",
   "metadata": {},
   "source": [
    "进口车(Foreign=1)和国产车(Foreign=0)比:\n",
    "\n",
    "- Risk(Fair)/Risk(Poor)=0.20\n",
    "- Risk(Average)/Risk(Poor)=0.70\n",
    "- Risk(Good)/Risk(Poor)= 1.08\n",
    "- Risk(Excellent)/Risk(Poor)= 1.32*10^7\n",
    "\n",
    ">Risk(Excellent)/Risk(Poor)= 1.32*10^7，这个结果之所以如此大，是因为有一个 `Excellent` 样本是0，所以估计有偏"
   ]
  }
 ],
 "metadata": {
  "kernelspec": {
   "display_name": "Python 3",
   "language": "python",
   "name": "python3"
  },
  "language_info": {
   "codemirror_mode": {
    "name": "ipython",
    "version": 3
   },
   "file_extension": ".py",
   "mimetype": "text/x-python",
   "name": "python",
   "nbconvert_exporter": "python",
   "pygments_lexer": "ipython3",
   "version": "3.12.9"
  }
 },
 "nbformat": 4,
 "nbformat_minor": 5
}

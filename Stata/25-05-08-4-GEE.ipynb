{
 "cells": [
  {
   "cell_type": "markdown",
   "id": "6d5830bc",
   "metadata": {},
   "source": [
    "---\n",
    "title: \"17-广义估计方程(GEE)\"\n",
    "subtitle: \"Generalized Estimating Equation\"\n",
    "author: \"Simon Zhou\"\n",
    "date: \"2025-05-08\"\n",
    "format: \n",
    "    html:\n",
    "        code-fold: false\n",
    "        fig_caption: true\n",
    "        number-sections: true\n",
    "        toc: true\n",
    "        toc-depth: 2\n",
    "---"
   ]
  },
  {
   "cell_type": "code",
   "execution_count": 1,
   "id": "5087ae4c",
   "metadata": {},
   "outputs": [],
   "source": [
    "import stata_setup\n",
    "stata_setup.config('C:/Program Files/Stata18', 'mp', splash=False)"
   ]
  },
  {
   "cell_type": "markdown",
   "id": "383ae6bb",
   "metadata": {},
   "source": [
    "## 广义估计方程\n",
    "\n",
    "广义估计方程（Generalized Estimating Equations, GEE）是一种用于分析具有相关性数据的统计方法，特别适用于纵向数据和重复测量数据的分析。\n",
    "\n",
    "### 基本概念\n",
    "\n",
    "广义估计方程是一种扩展的回归模型，旨在处理因变量之间可能存在的相关性。它于1986年由Liang和Zeger首次提出，主要用于估计广义线性模型的参数，尤其是在数据存在重复测量或相关性时。GEE通过准似然估计方法来处理这些数据，适用于多种类型的因变量，包括连续型、二分类和计数数据等。 \n",
    "\n",
    "### 应用场景\n",
    "\n",
    "1. 纵向数据分析：如临床试验中对同一组受试者在不同时间点的测量数据进行分析。\n",
    "2. 重复测量数据：例如在心理学和社会科学研究中，研究同一对象在不同条件下的表现。\n",
    "3. 组间比较：用于比较不同组别在某一时间点或多个时间点的差异。 \n",
    "\n",
    "### 优势与特点\n",
    "\n",
    "1. 处理相关性：GEE能够有效处理因变量之间的相关性，避免了传统方法（如方差分析）在数据不独立时可能导致的偏差。\n",
    "2. 灵活性：适用于多种类型的因变量，且对自变量的数据类型没有严格要求，可以处理定类和定量数据。\n",
    "3. 模型选择：根据因变量的分布特征选择合适的模型，如泊松回归、负二项回归等。 "
   ]
  },
  {
   "cell_type": "markdown",
   "id": "ae8e7bff",
   "metadata": {},
   "source": [
    "## 什么是纵向数据分析\n",
    "\n",
    "Examples oflongitudinal dataanalysis(LDA,纵向数据分析)\n",
    "\n",
    "1. Child BP measured at each annual visit from 3 to 9 years old\n",
    "2. Infant weight measured at 3, 6, 9, 12 months\n",
    "3. In a 3-arm cross-over trial, short chain fatty acid measured at\n",
    "the end ofeach \n",
    "\n",
    "### 纵向数据 vs. 横向数据\n",
    "\n",
    "纵向数据是指对同一组受试个体或者受试单元在不同时间点上的重复观测若干次，得到由截面和时间序列融合在一起的数据。\n",
    "\n",
    "因而纵向数据具有自相关性、生态单位聚集性、测量次数与测量时间间隔的非均衡性等特点。\n",
    "\n",
    "1. Establish temporaltrends(时序:A在B之前发生)\n",
    "2. Separate cohort effects from aging effects\n",
    "3. Children have different baseline values in reading abilities\n",
    "4. The trajectories of reading abilities differs by people"
   ]
  },
  {
   "cell_type": "markdown",
   "id": "46202d6e",
   "metadata": {},
   "source": [
    "### 方差公式\n",
    "\n",
    "$$Var(X-Y)\n",
    "Var((1)X+(-1)Y)=(1^2)Var(X)+(-1^2)Var(Y)+2(1)(-1)Cov(X,Y)$$\n",
    "\n",
    "在非配对 t 检验中，$Cov(X,Y)$为0，此时 $Var(X-Y)$ \n",
    "\n",
    "打破线性相关的假设"
   ]
  },
  {
   "cell_type": "markdown",
   "id": "ab5dc166",
   "metadata": {},
   "source": [
    "## GEE 模型\n",
    "\n",
    "\n",
    "|correlation | description |\n",
    "|---|---|\n",
    "| **exc**hangeable| exchangeable|\n",
    "| **ind**ependent| independent|\n",
    "| **uns**tructured| unstructured|\n",
    "| **fix**ed matname| user-specified|\n",
    "| ar #| autoregressive of order #|\n",
    "| **sta**tionary #| stationary of order #|\n",
    "| **non**stationary #| nonstationary of order #|\n",
    "\n",
    "### GEE 常用步骤\n",
    "\n",
    "1. 使用 independent 回归结构\n",
    "2. 稳健标准误估计（robust variance estimate）；如果用错模型，稳健后的结果也会相差不远\n",
    "3. 使用 QIC（AIC for GEE）评估GEE模型"
   ]
  },
  {
   "cell_type": "markdown",
   "id": "247255ca",
   "metadata": {},
   "source": [
    "## 数据导入\n",
    "\n",
    "Data:**NLS Women 14-24 in 1968**"
   ]
  },
  {
   "cell_type": "code",
   "execution_count": 2,
   "id": "218bf397",
   "metadata": {},
   "outputs": [
    {
     "name": "stdout",
     "output_type": "stream",
     "text": [
      "(NLS Women 14-24 in 1968)\n"
     ]
    }
   ],
   "source": [
    "%%stata\n",
    "webuse union,clear"
   ]
  },
  {
   "cell_type": "markdown",
   "id": "bf7cf6ee",
   "metadata": {},
   "source": [
    "## 数据观测"
   ]
  },
  {
   "cell_type": "code",
   "execution_count": 4,
   "id": "8527adf8",
   "metadata": {},
   "outputs": [
    {
     "name": "stdout",
     "output_type": "stream",
     "text": [
      "\n",
      "     +----------------------------------------------------------------+\n",
      "     | idcode   year   age   grade   not_smsa   south   union   black |\n",
      "     |----------------------------------------------------------------|\n",
      "  1. |      1     72    20      12          0       0       1       1 |\n",
      "  2. |      1     77    25      12          0       0       0       1 |\n",
      "  3. |      1     80    28      12          0       0       1       1 |\n",
      "  4. |      1     83    31      12          0       0       1       1 |\n",
      "  5. |      1     85    33      12          0       0       1       1 |\n",
      "     |----------------------------------------------------------------|\n",
      "  6. |      1     87    35      12          0       0       1       1 |\n",
      "  7. |      1     88    37      12          0       0       1       1 |\n",
      "  8. |      2     71    19      12          0       0       0       1 |\n",
      "  9. |      2     77    25      12          0       0       1       1 |\n",
      " 10. |      2     78    26      12          0       0       1       1 |\n",
      "     +----------------------------------------------------------------+\n"
     ]
    }
   ],
   "source": [
    "%%stata\n",
    "list in 1/10"
   ]
  },
  {
   "cell_type": "markdown",
   "id": "f0e0f6c0",
   "metadata": {},
   "source": [
    "## 用法\n",
    "\n",
    "### GEE 准备\n",
    "\n",
    "```stata\n",
    "xtset studyid timevar\n",
    "```\n",
    "\n",
    "- `studyid`: unique ID for each participant\n",
    "- `timevar`: timevar will usually be a variable that counts 1,2,..., and is to be interpreted as firstyear ofsurvey, second year,..., or first month oftreatment, second month."
   ]
  },
  {
   "cell_type": "code",
   "execution_count": 5,
   "id": "9bae5ed0",
   "metadata": {},
   "outputs": [
    {
     "name": "stdout",
     "output_type": "stream",
     "text": [
      "\n",
      "Panel variable: idcode (unbalanced)\n",
      " Time variable: year, 70 to 88, but with gaps\n",
      "         Delta: 1 unit\n"
     ]
    }
   ],
   "source": [
    "%%stata\n",
    "xtset id year"
   ]
  },
  {
   "cell_type": "markdown",
   "id": "43e42201",
   "metadata": {},
   "source": [
    "### GEE 命令\n",
    "\n",
    "```stata\n",
    "xtgee y x_1,x_2,x_3,…[if] [in] [weight] ,family(family) link(link) corr(correlation structure) robust\n",
    "```\n",
    "\n",
    "可以使用 `help gee` 查看更多信息"
   ]
  },
  {
   "cell_type": "code",
   "execution_count": 6,
   "id": "df69e38a",
   "metadata": {},
   "outputs": [
    {
     "name": "stdout",
     "output_type": "stream",
     "text": [
      "\n",
      "Iteration 1:  Tolerance = 1.940e-12\n",
      "\n",
      "GEE population-averaged model                      Number of obs    =   26,200\n",
      "Group variable: idcode                             Number of groups =    4,434\n",
      "Family: Binomial                                   Obs per group:  \n",
      "Link:   Logit                                                   min =        1\n",
      "Correlation: independent                                        avg =      5.9\n",
      "                                                                max =       12\n",
      "                                                   Wald chi2(4)     =   160.30\n",
      "Scale parameter = 1                                Prob > chi2      =   0.0000\n",
      "\n",
      "Pearson chi2(26200)  = 26242.04                    Deviance         = 27093.19\n",
      "Dispersion (Pearson) = 1.001604                    Dispersion       = 1.034091\n",
      "\n",
      "                                 (Std. err. adjusted for clustering on idcode)\n",
      "------------------------------------------------------------------------------\n",
      "             |               Robust\n",
      "       union | Coefficient  std. err.      z    P>|z|     [95% conf. interval]\n",
      "-------------+----------------------------------------------------------------\n",
      "         age |    .011683   .0033035     3.54   0.000     .0052082    .0181577\n",
      "       grade |    .048511   .0139346     3.48   0.000     .0211997    .0758223\n",
      "    not_smsa |  -.2214007   .0713343    -3.10   0.002    -.3612134    -.081588\n",
      "       south |  -.6470985   .0629803   -10.27   0.000    -.7705376   -.5236594\n",
      "       _cons |  -1.941974   .1973105    -9.84   0.000    -2.328695   -1.555253\n",
      "------------------------------------------------------------------------------\n"
     ]
    }
   ],
   "source": [
    "%%stata\n",
    "xtgee union age grade not_smsa south, family(binomial) link(logit) corr(ind) robust"
   ]
  }
 ],
 "metadata": {
  "kernelspec": {
   "display_name": "Python 3",
   "language": "python",
   "name": "python3"
  },
  "language_info": {
   "codemirror_mode": {
    "name": "ipython",
    "version": 3
   },
   "file_extension": ".py",
   "mimetype": "text/x-python",
   "name": "python",
   "nbconvert_exporter": "python",
   "pygments_lexer": "ipython3",
   "version": "3.12.9"
  }
 },
 "nbformat": 4,
 "nbformat_minor": 5
}

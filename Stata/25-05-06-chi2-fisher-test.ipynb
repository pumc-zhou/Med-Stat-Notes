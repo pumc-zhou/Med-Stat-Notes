{
 "cells": [
  {
   "cell_type": "markdown",
   "id": "009a5ab5",
   "metadata": {},
   "source": [
    "---\n",
    "title: \"08-卡方检验与Fisher精确检验\"\n",
    "author: \"Simon Zhou\"\n",
    "date: \"2025-05-06\"\n",
    "format: \n",
    "    html:\n",
    "        code-fold: false\n",
    "        fig_caption: true\n",
    "        number-sections: true\n",
    "        toc: true\n",
    "        toc-depth: 2\n",
    "---"
   ]
  },
  {
   "cell_type": "code",
   "execution_count": 2,
   "id": "441e39dd",
   "metadata": {},
   "outputs": [],
   "source": [
    "import stata_setup\n",
    "stata_setup.config('C:/Program Files/Stata18', 'mp', splash=False)"
   ]
  },
  {
   "cell_type": "markdown",
   "id": "e5ae37ee",
   "metadata": {},
   "source": [
    "## 数据导入\n",
    "\n",
    "此章节使用 Stata 自带的 1988 年 美国的 National Longitudinal Study of Young Women Data 进行分析和示例。"
   ]
  },
  {
   "cell_type": "code",
   "execution_count": 3,
   "id": "8a6c27b1",
   "metadata": {},
   "outputs": [
    {
     "name": "stdout",
     "output_type": "stream",
     "text": [
      "(NLSW, 1988 extract)\n"
     ]
    }
   ],
   "source": [
    "%%stata\n",
    "sysuse nlsw88.dta, clear"
   ]
  },
  {
   "cell_type": "markdown",
   "id": "4aa5accc",
   "metadata": {},
   "source": [
    "## $\\chi^2$ test\n",
    "\n",
    "卡方检验($\\chi^2$)，主要用于检验两个或多个分类变量之间的关联性。它通过比较实际观察频数与期望频数之间的差异来判断变量是否独立，从而揭示不同类别之间是否存在统计学上的显著关系。\n",
    "\n",
    "基本语法：\n",
    "\n",
    "```stata\n",
    "tabulate var1 var2,chi2\n",
    "```\n",
    "\n",
    "`tabulate` 可以简写为 `tab`，后续都用 `tab` 替代 `tabulate` "
   ]
  },
  {
   "cell_type": "code",
   "execution_count": null,
   "id": "7ba4bbdd",
   "metadata": {},
   "outputs": [
    {
     "name": "stdout",
     "output_type": "stream",
     "text": [
      "\n",
      "           |        Married\n",
      "      Race |    Single    Married |     Total\n",
      "-----------+----------------------+----------\n",
      "     White |       487      1,150 |     1,637 \n",
      "     Black |       309        274 |       583 \n",
      "     Other |         8         18 |        26 \n",
      "-----------+----------------------+----------\n",
      "     Total |       804      1,442 |     2,246 \n",
      "\n",
      "          Pearson chi2(2) = 101.4215   Pr = 0.000\n"
     ]
    }
   ],
   "source": [
    "%%stata\n",
    "tab race married, chi2"
   ]
  },
  {
   "cell_type": "markdown",
   "id": "8c99bb4b",
   "metadata": {},
   "source": [
    "### 查看每一个单元格对于 $\\chi^2$ 检验的贡献:\n",
    "\n",
    "语法：\n",
    "\n",
    "```stata\n",
    "tab var1 var2, cchi2 chi2\n",
    "```"
   ]
  },
  {
   "cell_type": "code",
   "execution_count": null,
   "id": "3a334d30",
   "metadata": {},
   "outputs": [
    {
     "name": "stdout",
     "output_type": "stream",
     "text": [
      "\n",
      "+-------------------+\n",
      "| Key               |\n",
      "|-------------------|\n",
      "|     frequency     |\n",
      "| chi2 contribution |\n",
      "+-------------------+\n",
      "\n",
      "           |        Married\n",
      "      Race |    Single    Married |     Total\n",
      "-----------+----------------------+----------\n",
      "     White |       487      1,150 |     1,637 \n",
      "           |      16.7        9.3 |      26.0 \n",
      "-----------+----------------------+----------\n",
      "     Black |       309        274 |       583 \n",
      "           |      48.2       26.9 |      75.1 \n",
      "-----------+----------------------+----------\n",
      "     Other |         8         18 |        26 \n",
      "           |       0.2        0.1 |       0.3 \n",
      "-----------+----------------------+----------\n",
      "     Total |       804      1,442 |     2,246 \n",
      "           |      65.1       36.3 |     101.4 \n",
      "\n",
      "          Pearson chi2(2) = 101.4215   Pr = 0.000\n"
     ]
    }
   ],
   "source": [
    "%%stata\n",
    "tab race married, cchi2 chi2"
   ]
  },
  {
   "cell_type": "markdown",
   "id": "3df4798f",
   "metadata": {},
   "source": [
    "### 查看期望频数（理论频数）\n",
    "\n",
    "语法：\n",
    "\n",
    "```stata\n",
    "tab var1 var2, chi2 expected\n",
    "```"
   ]
  },
  {
   "cell_type": "code",
   "execution_count": null,
   "id": "c7c57378",
   "metadata": {},
   "outputs": [
    {
     "name": "stdout",
     "output_type": "stream",
     "text": [
      "\n",
      "+--------------------+\n",
      "| Key                |\n",
      "|--------------------|\n",
      "|     frequency      |\n",
      "| expected frequency |\n",
      "+--------------------+\n",
      "\n",
      "           |        Married\n",
      "      Race |    Single    Married |     Total\n",
      "-----------+----------------------+----------\n",
      "     White |       487      1,150 |     1,637 \n",
      "           |     586.0    1,051.0 |   1,637.0 \n",
      "-----------+----------------------+----------\n",
      "     Black |       309        274 |       583 \n",
      "           |     208.7      374.3 |     583.0 \n",
      "-----------+----------------------+----------\n",
      "     Other |         8         18 |        26 \n",
      "           |       9.3       16.7 |      26.0 \n",
      "-----------+----------------------+----------\n",
      "     Total |       804      1,442 |     2,246 \n",
      "           |     804.0    1,442.0 |   2,246.0 \n",
      "\n",
      "          Pearson chi2(2) = 101.4215   Pr = 0.000\n"
     ]
    }
   ],
   "source": [
    "%%stata\n",
    "tab race married, chi2 expected"
   ]
  },
  {
   "cell_type": "markdown",
   "id": "44d504e5",
   "metadata": {},
   "source": [
    "## Fisher's exact test\n",
    "\n",
    "当列联表中理论频数(期望频数)<5时，我们可以增加样本量、删去理论频数太少的行或列、或者合并某些行或列。\n",
    "\n",
    "当然也可以使用Fisher精确检验来检验，并且任何样本量都可以使用Fisher精确检验。\n",
    "\n",
    "语法：\n",
    "\n",
    "```stata\n",
    "tab var1 var2, exact\n",
    "```"
   ]
  },
  {
   "cell_type": "code",
   "execution_count": null,
   "id": "669a0dfd",
   "metadata": {},
   "outputs": [
    {
     "name": "stdout",
     "output_type": "stream",
     "text": [
      "\n",
      "Enumerating sample-space combinations:\n",
      "stage 3:  enumerations = 1\n",
      "stage 2:  enumerations = 27\n",
      "stage 1:  enumerations = 0\n",
      "\n",
      "           |        Married\n",
      "      Race |    Single    Married |     Total\n",
      "-----------+----------------------+----------\n",
      "     White |       487      1,150 |     1,637 \n",
      "     Black |       309        274 |       583 \n",
      "     Other |         8         18 |        26 \n",
      "-----------+----------------------+----------\n",
      "     Total |       804      1,442 |     2,246 \n",
      "\n",
      "           Fisher's exact =                 0.000\n"
     ]
    }
   ],
   "source": [
    "%%stata\n",
    "tab race married, exact"
   ]
  },
  {
   "cell_type": "markdown",
   "id": "e983a5ad",
   "metadata": {},
   "source": [
    "## Notices\n",
    "\n",
    "在一般的统计学教程或书籍中，有如下的说明：\n",
    "\n",
    "1. 总例数≥40，所有理论频数≥5，看Pearson Chi-Square结果;\n",
    "2. 总例数≥40，出现1个理论频数≥1且<5，$\\chi^2$检验需进行连续性校正，这时以**Continuity Correction**结果为准\n",
    "3. 总例数≥40，至少2个理论频数≥1且<5，看**Fisher's Exact Test**结果;\n",
    "4. 总例数<40或者出现理论频数<1，看**Fisher’s Exact Test**结果\n",
    "\n",
    "针对上述 第2点 中对$\\chi^2$检验需进行连续性校正，在 Stata 中一般不是必须的：\n",
    "\n",
    "1. Stata不自带卡方检验的连续性矫正\n",
    "2. Stata有用户自写的package可以实现连续性矫正，但是并不推荐:卡方检验的连续性矫正并不是必须的、也不是最推荐的方法\n",
    "3. 在样本量足够大的时候，使用卡方检验时，是否使用卡方检验的连续性校正区别很小;使用Fisher精确检验也是没有问题的\n",
    "4. 在样本量小的时候(通常是某个格子期望频<5)，可直接使用Fisher精确检验，亦不需要使用“卡方检验+连续性矫正”"
   ]
  }
 ],
 "metadata": {
  "kernelspec": {
   "display_name": "Python 3",
   "language": "python",
   "name": "python3"
  },
  "language_info": {
   "codemirror_mode": {
    "name": "ipython",
    "version": 3
   },
   "file_extension": ".py",
   "mimetype": "text/x-python",
   "name": "python",
   "nbconvert_exporter": "python",
   "pygments_lexer": "ipython3",
   "version": "3.12.9"
  }
 },
 "nbformat": 4,
 "nbformat_minor": 5
}
